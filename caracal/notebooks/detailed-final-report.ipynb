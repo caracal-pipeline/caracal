{
 "cells": [
  {
   "cell_type": "code",
   "execution_count": null,
   "metadata": {},
   "outputs": [],
   "source": [
    "from radiopadre import ls                                                # everyone needs an ls function\n",
    "from radiopadre import settings\n",
    "from radiopadre.table import tabulate\n",
    "from radiopadre.layouts import Title, Section\n",
    "\n",
    "settings.html.width = 800\n",
    "settings.html.height = 800\n",
    "Title(\"CARACal Data Reduction\",                                          # edit the title as you like\n",
    "      \"Observation info | Fields Info | Flagging Data | Gain Plots | Data Inspection | Cross-Cal flagging | \"\n",
    "      \"Target flagging | Target RFInder | Continuum Images | Calibration Diagnostics |  Self-Cal flagging | \"\n",
    "      \"Continuum Statistics | Continuum Cross-matching | Sun Blocker | Cube Images | Moment Images | \"\n",
    "      \"Spectral Analysis\",\n",
    "      logo=\".logo/caracal-logo-200px.png\", logo_width=100, logo_padding=8, \n",
    "      icon=\".logo/caracal-square-logo-32px.png\", icon_width=16,\n",
    "     )"
   ]
  },
  {
   "cell_type": "code",
   "execution_count": null,
   "metadata": {},
   "outputs": [],
   "source": [
    "obsinfo = ls(\"*-obsinfo.txt\", section=\"Observation info\")\n",
    "obsinfo.title = \"Observation Information\"\n",
    "if obsinfo:\n",
    "    obsinfo[-1][0:8].show(number=False)\n",
    "else:\n",
    "    HTML(\"<p style='color:#ff0000; font-weight:bold'>Could not load specified files. \"\n",
    "         \"This step may not have run, or there was a trainsmash. Check the logs</p>\")"
   ]
  },
  {
   "cell_type": "code",
   "execution_count": null,
   "metadata": {},
   "outputs": [],
   "source": [
    "elev_plot = ls(\"diagnostic_plots/*elevation-tracks*.png\", section=\"Fields Info\")\n",
    "elev_plot.title = \"Elevation Plot\"\n",
    "if obsinfo:\n",
    "    start_line = obsinfo[-1]('Fields')[0][0]+1\n",
    "    end_line = obsinfo[-1]('Spectral')[0][0]\n",
    "    get_sources = obsinfo[-1][start_line:end_line].extract(\n",
    "                      \"([^\\s]+)\\s+([^\\s]+)\\s+([^\\s]+)\\s+([^\\s]+)\\s+([^\\s]+)\\s+([^\\s]+)\\s+([^\\s]+)\", \n",
    "                      [0, 2, 3, 4])\n",
    "else:\n",
    "    get_sources = \"No observation info file\"\n",
    "tabulate([elev_plot.thumbs, get_sources], cw=[0.6, 0.4], maxcol=2)"
   ]
  },
  {
   "cell_type": "code",
   "execution_count": null,
   "metadata": {},
   "outputs": [],
   "source": [
    "flag_summary_file = \"diagnostic_plots/*flagging-flagging-summary-plots-*html\"\n",
    "flag_summary_plots = ls(flag_summary_file, section=\"Flagging Data\")\n",
    "flag_summary_plots.html.thumbs()"
   ]
  },
  {
   "cell_type": "code",
   "execution_count": null,
   "metadata": {},
   "outputs": [],
   "source": [
    "gain_files = \"reports/*1gc*\"\n",
    "gain_plots = ls(gain_files, section=\"Gain Plots\")\n",
    "gain_plots.html.thumbs()"
   ]
  },
  {
   "cell_type": "code",
   "execution_count": null,
   "metadata": {},
   "outputs": [],
   "source": [
    "inspect_files = \"diagnostic_plots/crosscal/*.png\"\n",
    "inspect_plots = ls(\"{} -rt\".format(inspect_files), section=\"Data Inspection\")\n",
    "inspect_plots.thumbs()"
   ]
  },
  {
   "cell_type": "code",
   "execution_count": null,
   "metadata": {},
   "outputs": [],
   "source": [
    "flag_summary_file = \"diagnostic_plots/*cross_cal-flagging-summary-plots-*.html\"\n",
    "flag_summary_plots = ls(flag_summary_file, section=\"Cross-Cal flagging\")\n",
    "flag_summary_plots.html.thumbs()"
   ]
  },
  {
   "cell_type": "code",
   "execution_count": null,
   "metadata": {},
   "outputs": [],
   "source": [
    "flag_summary_file = \"diagnostic_plots/*flagging__2-flagging-summary-plots-*.html\"\n",
    "flag_summary_plots = ls(flag_summary_file, section=\"Target flagging\")\n",
    "flag_summary_plots.html.thumbs()"
   ]
  },
  {
   "cell_type": "code",
   "execution_count": null,
   "metadata": {},
   "outputs": [],
   "source": [
    "rfinder_file = \"rfi_q*/time_report.html\"\n",
    "rfinder_plot = ls(rfinder_file, section=\"Target RFInder\")\n",
    "rfinder_plot.html.thumbs(width=1200,height=1000)"
   ]
  },
  {
   "cell_type": "code",
   "execution_count": null,
   "metadata": {},
   "outputs": [],
   "source": [
    "image_files = \"continuum/image*/*MFS-image.fits\"\n",
    "image_plots = ls(image_files, section=\"Continuum Images\")\n",
    "image_plots.thumbs(vmin=-0.0002, vmax=0.002, maxcol=5)"
   ]
  },
  {
   "cell_type": "code",
   "execution_count": null,
   "metadata": {},
   "outputs": [],
   "source": [
    "residual_files = \"continuum/image*/*MFS-residual.fits\"\n",
    "residual_plots = ls(residual_files)\n",
    "residual_plots.thumbs(vmin=-0.0001, vmax=0.001, maxcol=5)"
   ]
  },
  {
   "cell_type": "code",
   "execution_count": null,
   "metadata": {},
   "outputs": [],
   "source": [
    "model_files = \"continuum/image*/*MFS-model.fits\"\n",
    "model_plots = ls(model_files)\n",
    "model_plots.thumbs(vmin=-0.00002, vmax=0.00002, maxcol=5)"
   ]
  },
  {
   "cell_type": "code",
   "execution_count": null,
   "metadata": {},
   "outputs": [],
   "source": [
    "psf_files = \"continuum/image*/*MFS-psf.fits\"\n",
    "psf_plots = ls(psf_files)\n",
    "psf_plots.thumbs(vmin=-0.0002, vmax=0.002, maxcol=5)"
   ]
  },
  {
   "cell_type": "code",
   "execution_count": null,
   "metadata": {},
   "outputs": [],
   "source": [
    "image_files = \"continuum/image*/*MFS-dirty.fits\"\n",
    "image_plot = ls(image_files)\n",
    "image_plot.thumbs(vmin=-0.0002, vmax=0.002, maxcol=5)"
   ]
  },
  {
   "cell_type": "code",
   "execution_count": null,
   "metadata": {},
   "outputs": [],
   "source": [
    "calibration_files = \"continuum/selfcal_products/*png\"\n",
    "calibration_plots = ls(calibration_files, section=\"Calibration Diagnostics\")\n",
    "calibration_plots.thumbs(maxcol=6)"
   ]
  },
  {
   "cell_type": "code",
   "execution_count": null,
   "metadata": {},
   "outputs": [],
   "source": [
    "flag_summary_file = \"diagnostic_plots/*self_cal-flagging-summary-plots-*.html\"\n",
    "flag_summary_plots = ls(flag_summary_file, section=\"Self-Cal flagging\")\n",
    "flag_summary_plots.html.thumbs()"
   ]
  },
  {
   "cell_type": "code",
   "execution_count": null,
   "metadata": {},
   "outputs": [],
   "source": [
    "cross_match_files = \"diagnostic_plots/selfcal/*.html\"\n",
    "cross_match_plot = ls(cross_match_files, section=\"Continuum Cross-matching\")\n",
    "cross_match_plot.thumbs()"
   ]
  },
  {
   "cell_type": "code",
   "execution_count": null,
   "metadata": {},
   "outputs": [],
   "source": [
    "sunblocker_files = \"diagnostic_plots/*sunblocker.svg\"\n",
    "sunblocker_plot = ls(sunblocker_files, section=\"Sun Blocker\")\n",
    "sunblocker_plot.thumbs()"
   ]
  },
  {
   "cell_type": "code",
   "execution_count": null,
   "metadata": {},
   "outputs": [],
   "source": [
    "cube_image_files = \"cubes/cube*/*[*image|*residual].fits\"\n",
    "cube_image_plots = ls(cube_image_files, section=\"Cube Images\")\n",
    "cube_image_plots.thumbs(vmin=-0.0001, vmax=0.001)"
   ]
  },
  {
   "cell_type": "code",
   "execution_count": null,
   "metadata": {},
   "outputs": [],
   "source": [
    "moment0_image_files = \"cubes/cube*/*image_mom0.fits\"\n",
    "moment0_image_plots = ls(moment0_image_files, section=\"Moment Images\")\n",
    "moment0_image_plots.thumbs(vmin=-0.02, vmax=0.005)"
   ]
  },
  {
   "cell_type": "code",
   "execution_count": null,
   "metadata": {},
   "outputs": [],
   "source": [
    "moment1_image_files = \"cubes/cube*/*image_mom1.fits\"\n",
    "moment1_image_plots = ls(moment1_image_files)\n",
    "moment1_image_plots.thumbs(vmin=1e9, vmax=2e9)"
   ]
  },
  {
   "cell_type": "code",
   "execution_count": null,
   "metadata": {},
   "outputs": [],
   "source": [
    "sharpener_file = \"diagnostic_plots/wlm_J0001_1527_sharpOut/plot/output_all_plots_*.pdf\"\n",
    "sharpener_plots = ls(sharpener_file, section=\"Spectral Analysis\")\n",
    "sharpener_plots.thumbs()"
   ]
  }
 ],
 "metadata": {
  "kernelspec": {
   "display_name": "radiopadre",
   "language": "python",
   "name": "radiopadre"
  },
  "language_info": {
   "codemirror_mode": {
    "name": "ipython",
    "version": 3
   },
   "file_extension": ".py",
   "mimetype": "text/x-python",
   "name": "python",
   "nbconvert_exporter": "python",
   "pygments_lexer": "ipython3",
   "version": "3.6.9"
  }
 },
 "nbformat": 4,
 "nbformat_minor": 2
}
