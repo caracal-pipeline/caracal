{
 "cells": [
  {
   "cell_type": "code",
   "execution_count": null,
   "metadata": {},
   "outputs": [],
   "source": [
    "import radiopadre\n",
    "from radiopadre import ls, settings\n",
    "from radiopadre.table import tabulate\n",
    "from radiopadre.layouts import Title, Section\n",
    "from radiopadre.render import render_error, render_status_message\n",
    "from IPython.display import display, HTML, Javascript\n",
    "\n",
    "settings.html.width = 1920\n",
    "settings.html.height = 1024\n",
    "radiopadre.hide_cell_code()\n",
    "Title(\"Detailed Report For {{ title }}{{ suffix }}\",                                          # edit the title as you like\n",
    "      logo=\"reports/caracal-logo-200px.png\", logo_width=100, logo_padding=8, \n",
    "      icon=\"reports/caracal-square-logo-32px.png\", icon_width=16,\n",
    "     )"
   ]
  },
  {
   "cell_type": "code",
   "execution_count": null,
   "metadata": {},
   "outputs": [],
   "source": [
    "obsinfo = ls(\"obsinfo/*-obsinfo.txt\", section=\"Observation info\")\n",
    "obsinfo.title = \"Observation Information\"\n",
    "if obsinfo:\n",
    "    obsinfo[-1][0:8].show(number=False)\n",
    "else:\n",
    "    display(HTML(render_error(\"This step may not have run, or there was a trainsmash. Check the logs\")))"
   ]
  },
  {
   "cell_type": "code",
   "execution_count": null,
   "metadata": {},
   "outputs": [],
   "source": [
    "elev_plot = ls(\"obsinfo/*elevation-tracks*.png\", section=\"Fields Info\")\n",
    "elev_plot.title = \"Elevation Plot\"\n",
    "if obsinfo:\n",
    "    start_line = obsinfo[-1]('Fields')[0][0]+1\n",
    "    end_line = obsinfo[-1]('Spectral')[0][0]\n",
    "    get_sources = obsinfo[-1][start_line:end_line].extract(\n",
    "                      \"([^\\s]+)\\s+([^\\s]+)\\s+([^\\s]+)\\s+([^\\s]+)\\s+([^\\s]+)\\s+([^\\s]+)\\s+([^\\s]+)\", \n",
    "                      [0, 2, 3, 4])\n",
    "else:\n",
    "    get_sources = \"No observation info file\"\n",
    "tabulate([elev_plot.thumbs, get_sources], cw=[0.6, 0.4], maxcol=2)"
   ]
  },
  {
   "cell_type": "code",
   "execution_count": null,
   "metadata": {},
   "outputs": [],
   "source": [
    "flag_summary_file = \"diagnostic_plots/*flag-flagging-summary-plots-*html\"\n",
    "flag_summary_plots = ls(flag_summary_file, section=\"Flagging\")\n",
    "flag_summary_plots.html.thumbs()"
   ]
  },
  {
   "cell_type": "code",
   "execution_count": null,
   "metadata": {},
   "outputs": [],
   "source": [
    "primary_gain_files = \"diagnostic_plots/crosscal/*primary*html\"\n",
    "secondary_gain_files = \"diagnostic_plots/crosscal/*secondary*html\"\n",
    "primary_gain_plots = ls(primary_gain_files, section=\"Gain Plots\")\n",
    "secondary_gain_plots = ls(secondary_gain_files)\n",
    "gain_plots = primary_gain_plots + secondary_gain_plots\n",
    "gain_plots.html.thumbs()"
   ]
  },
  {
   "cell_type": "code",
   "execution_count": null,
   "metadata": {},
   "outputs": [],
   "source": [
    "inspect_plots = ls(\"diagnostic_plots/initial/\", section=\"Data Raw\")\n",
    "inspect_plots.thumbs()"
   ]
  },
  {
   "cell_type": "code",
   "execution_count": null,
   "metadata": {},
   "outputs": [],
   "source": [
    "inspect_plots = ls(\"diagnostic_plots/crosscal/\", section=\"Data 1GC\")\n",
    "inspect_plots.thumbs()"
   ]
  },
  {
   "cell_type": "code",
   "execution_count": null,
   "metadata": {},
   "outputs": [],
   "source": [
    "flag_summary_file = \"diagnostic_plots/*crosscal-flagging-summary-plots-*.html\"\n",
    "flag_summary_plots = ls(flag_summary_file, section=\"Crosscal Flagging\")\n",
    "flag_summary_plots.html.thumbs()"
   ]
  },
  {
   "cell_type": "code",
   "execution_count": null,
   "metadata": {},
   "outputs": [],
   "source": [
    "flag_summary_file = \"diagnostic_plots/*flag__*-flagging-summary-plots-*.html\"\n",
    "flag_summary_plots = ls(flag_summary_file, section=\"Target Flagging\")\n",
    "flag_summary_plots.html.thumbs()"
   ]
  },
  {
   "cell_type": "code",
   "execution_count": null,
   "metadata": {},
   "outputs": [],
   "source": [
    "rfinder_file = \"rfi_*/time_report.html\"\n",
    "rfinder_plot = ls(rfinder_file, section=\"Target RFInder\")\n",
    "rfinder_plot.html.thumbs(width=1200,height=1000)"
   ]
  },
  {
   "cell_type": "code",
   "execution_count": null,
   "metadata": {},
   "outputs": [],
   "source": [
    "image_files = \"continuum/image*/*MFS-image.fits\"\n",
    "image_plots = ls(image_files, section=\"Continuum Images\")\n",
    "image_plots.thumbs(vmin=-0.0002, vmax=0.002, maxcol=5)"
   ]
  },
  {
   "cell_type": "code",
   "execution_count": null,
   "metadata": {},
   "outputs": [],
   "source": [
    "residual_files = \"continuum/image*/*MFS-residual.fits\"\n",
    "residual_plots = ls(residual_files)\n",
    "residual_plots.thumbs(vmin=-0.0001, vmax=0.001, maxcol=5)"
   ]
  },
  {
   "cell_type": "code",
   "execution_count": null,
   "metadata": {},
   "outputs": [],
   "source": [
    "model_files = \"continuum/image*/*MFS-model.fits\"\n",
    "model_plots = ls(model_files)\n",
    "model_plots.thumbs(vmin=-0.00002, vmax=0.00002, maxcol=5)"
   ]
  },
  {
   "cell_type": "code",
   "execution_count": null,
   "metadata": {},
   "outputs": [],
   "source": [
    "psf_files = \"continuum/image*/*MFS-psf.fits\"\n",
    "psf_plots = ls(psf_files)\n",
    "psf_plots.thumbs(vmin=-0.0002, vmax=0.002, maxcol=5)"
   ]
  },
  {
   "cell_type": "code",
   "execution_count": null,
   "metadata": {},
   "outputs": [],
   "source": [
    "image_files = \"continuum/image*/*MFS-dirty.fits\"\n",
    "image_plot = ls(image_files)\n",
    "image_plot.thumbs(vmin=-0.0002, vmax=0.002, maxcol=5)"
   ]
  },
  {
   "cell_type": "code",
   "execution_count": null,
   "metadata": {},
   "outputs": [],
   "source": [
    "calibration_files = \"continuum/selfcal_products/*png\"\n",
    "calibration_plots = ls(calibration_files, section=\"Selfcal Diag\")\n",
    "calibration_plots.thumbs(maxcol=6)"
   ]
  },
  {
   "cell_type": "code",
   "execution_count": null,
   "metadata": {},
   "outputs": [],
   "source": [
    "flag_summary_file = \"diagnostic_plots/*selfcal-flagging-summary-plots-*.html\"\n",
    "flag_summary_plots = ls(flag_summary_file, section=\"Selfcal Flagging\")\n",
    "flag_summary_plots.html.thumbs()"
   ]
  },
  {
   "cell_type": "code",
   "execution_count": null,
   "metadata": {},
   "outputs": [],
   "source": [
    "input_output_match_files = \"diagnostic_plots/selfcal/*InputOutput*.html\"\n",
    "residual_match_files = \"diagnostic_plots/selfcal/*ResidualNoise*.html\"\n",
    "input_output_match_plots = ls(input_output_match_files,\n",
    "                              section=\"Continuum Cross-matching\")\n",
    "residual_match_plots = ls(residual_match_files)\n",
    "cross_match_plots = input_output_match_plots + residual_match_plots\n",
    "cross_match_plots.thumbs()"
   ]
  },
  {
   "cell_type": "code",
   "execution_count": null,
   "metadata": {},
   "outputs": [],
   "source": [
    "sunblocker_files = \"diagnostic_plots/*sunblocker.svg\"\n",
    "sunblocker_plot = ls(sunblocker_files, section=\"Sunblocker\")\n",
    "sunblocker_plot.thumbs()"
   ]
  },
  {
   "cell_type": "code",
   "execution_count": null,
   "metadata": {},
   "outputs": [],
   "source": [
    "cube_image_files = \"cubes/cube*/*.fits\"\n",
    "cube_image_plots = ls(cube_image_files, section=\"Cube Images\")\n",
    "cube_image_plots"
   ]
  },
  {
   "cell_type": "code",
   "execution_count": null,
   "metadata": {},
   "outputs": [],
   "source": [
    "moment0_image_files = \"cubes/cube*/*image_mom0.fits\"\n",
    "moment0_image_plots = ls(moment0_image_files, section=\"Moment Images\")\n",
    "moment0_image_plots.thumbs(vmin=-0.02, vmax=0.005)"
   ]
  },
  {
   "cell_type": "code",
   "execution_count": null,
   "metadata": {},
   "outputs": [],
   "source": [
    "moment1_image_files = \"cubes/cube*/*image_mom1.fits\"\n",
    "moment1_image_plots = ls(moment1_image_files)\n",
    "moment1_image_plots.thumbs(vmin=1e9, vmax=2e9)"
   ]
  },
  {
   "cell_type": "code",
   "execution_count": null,
   "metadata": {},
   "outputs": [],
   "source": [
    "sharpener_file = \"diagnostic_plots/*_sharpOut/plot/output_all_plots_*.pdf\"\n",
    "sharpener_plots = ls(sharpener_file, section=\"Spectral Analysis\")\n",
    "sharpener_plots.thumbs()"
   ]
  }
 ],
 "metadata": {
  "kernelspec": {
   "display_name": "radiopadre",
   "language": "python",
   "name": "radiopadre"
  },
  "language_info": {
   "codemirror_mode": {
    "name": "ipython",
    "version": 3
   },
   "file_extension": ".py",
   "mimetype": "text/x-python",
   "name": "python",
   "nbconvert_exporter": "python",
   "pygments_lexer": "ipython3",
   "version": "3.6.9"
  },
  "radiopadre_notebook_scrub": true
 },
 "nbformat": 4,
 "nbformat_minor": 2
}