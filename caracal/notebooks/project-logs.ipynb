{
 "cells": [
  {
   "cell_type": "markdown",
   "metadata": {},
   "source": [
    "# Log list"
   ]
  },
  {
   "cell_type": "code",
   "execution_count": null,
   "metadata": {},
   "outputs": [],
   "source": [
    "from radiopadre import ls"
   ]
  },
  {
   "cell_type": "code",
   "execution_count": null,
   "metadata": {},
   "outputs": [],
   "source": [
    "log_files = \"log-caracal.txt \"\n",
    "log_plots = ls(log_files, section=\"CARACal log\")\n",
    "log_plots.thumbs"
   ]
  },
  {
   "cell_type": "code",
   "execution_count": null,
   "metadata": {},
   "outputs": [],
   "source": [
    "log_files = \"logs*/log-observation_config* -lt\"\n",
    "log_plots = ls(log_files, section=\"Observation config logs\")\n",
    "log_plots"
   ]
  },
  {
   "cell_type": "code",
   "execution_count": null,
   "metadata": {},
   "outputs": [],
   "source": [
    "log_files = \"logs*/log-prepare_data* -lt\"\n",
    "log_plots = ls(log_files, section=\"Prepare data logs\")\n",
    "log_plots"
   ]
  },
  {
   "cell_type": "code",
   "execution_count": null,
   "metadata": {},
   "outputs": [],
   "source": [
    "log_files = \"logs*/log-flagging*flagging_0_0* -lt\"\n",
    "log_plots = ls(log_files, section=\"Calibrator flagging logs\")\n",
    "log_plots"
   ]
  },
  {
   "cell_type": "code",
   "execution_count": null,
   "metadata": {},
   "outputs": [],
   "source": [
    "log_files = \"logs*/log-cross_cal* -lt\"\n",
    "log_plots = ls(log_files, section=\"Cross Calibration logs\")\n",
    "log_plots"
   ]
  },
  {
   "cell_type": "code",
   "execution_count": null,
   "metadata": {},
   "outputs": [],
   "source": [
    "log_files = \"logs*/log-inspect_data* -lt\"\n",
    "log_plots = ls(log_files, section=\"Inspect data logs\")\n",
    "log_plots"
   ]
  },
  {
   "cell_type": "code",
   "execution_count": null,
   "metadata": {},
   "outputs": [],
   "source": [
    "log_files = \"logs*/log-split_target* -lt\"\n",
    "log_plots = ls(log_files, section=\"Transform data logs\")\n",
    "log_plots"
   ]
  },
  {
   "cell_type": "code",
   "execution_count": null,
   "metadata": {},
   "outputs": [],
   "source": [
    "log_files = \"logs*/log-flagging-*flagging__* -lt\"\n",
    "log_plots = ls(log_files, section=\"Target flagging logs\")\n",
    "log_plots"
   ]
  },
  {
   "cell_type": "code",
   "execution_count": null,
   "metadata": {},
   "outputs": [],
   "source": [
    "log_files = \"logs*/log-self_cal* -lt\"\n",
    "log_plots = ls(log_files, section=\"Self-Calibration logs\")\n",
    "log_plots"
   ]
  },
  {
   "cell_type": "code",
   "execution_count": null,
   "metadata": {},
   "outputs": [],
   "source": [
    "log_files = \"logs*/log-direction_dependent_calibration* -lt\"\n",
    "log_plots = ls(log_files, section=\"DD-Calibration logs\")\n",
    "log_plots"
   ]
  },
  {
   "cell_type": "code",
   "execution_count": null,
   "metadata": {},
   "outputs": [],
   "source": [
    "log_files = \"logs*/log-image_line* -lt\"\n",
    "log_plots = ls(log_files, section=\"Image line logs\")\n",
    "log_plots"
   ]
  }
 ],
 "metadata": {
  "kernelspec": {
   "display_name": "Python 3",
   "language": "python",
   "name": "python3"
  },
  "language_info": {
   "codemirror_mode": {
    "name": "ipython",
    "version": 3
   },
   "file_extension": ".py",
   "mimetype": "text/x-python",
   "name": "python",
   "nbconvert_exporter": "python",
   "pygments_lexer": "ipython3",
   "version": "3.6.9"
  }
 },
 "nbformat": 4,
 "nbformat_minor": 4
}
