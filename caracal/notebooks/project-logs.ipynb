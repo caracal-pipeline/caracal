{
 "cells": [
  {
   "cell_type": "code",
   "execution_count": null,
   "metadata": {},
   "outputs": [],
   "source": [
    "from radiopadre import ls\n",
    "from radiopadre.layouts import Title\n",
    "\n",
    "Title(\"CARACal Data Reduction logs\",                                          # edit the title as you like\n",
    "      \"CARACal log | Observation config logs | Prepare data logs | \"\n",
    "      \"Calibrator flagging logs | Cross Calibration logs | Inspect data logs | \"\n",
    "      \"Transform data logs | Target flagging logs | Self-Calibration logs | \"\n",
    "      \"DD-Calibration logs | Image line logs\",\n",
    "      logo=\".logo/caracal-logo-200px.png\", logo_width=100, logo_padding=8, \n",
    "      icon=\".logo/caracal-square-logo-32px.png\", icon_width=16,\n",
    "     )"
   ]
  },
  {
   "cell_type": "code",
   "execution_count": null,
   "metadata": {},
   "outputs": [],
   "source": [
    "log_files = \"log-caracal.txt \"\n",
    "log_plots = ls(log_files, section=\"CARACal log\")\n",
    "log_plots.thumbs(head=0, tail=15)"
   ]
  },
  {
   "cell_type": "code",
   "execution_count": null,
   "metadata": {},
   "outputs": [],
   "source": [
    "log_files = \"logs*/log-observation_config* -lt\"\n",
    "log_plots = ls(log_files, section=\"Observation config logs\")\n",
    "log_plots"
   ]
  },
  {
   "cell_type": "code",
   "execution_count": null,
   "metadata": {},
   "outputs": [],
   "source": [
    "log_files = \"logs*/log-prepare_data* -lt\"\n",
    "log_plots = ls(log_files, section=\"Prepare data logs\")\n",
    "log_plots"
   ]
  },
  {
   "cell_type": "code",
   "execution_count": null,
   "metadata": {},
   "outputs": [],
   "source": [
    "log_files = \"logs*/log-flagging*flagging_0_0* -lt\"\n",
    "log_plots = ls(log_files, section=\"Calibrator flagging logs\")\n",
    "log_plots"
   ]
  },
  {
   "cell_type": "code",
   "execution_count": null,
   "metadata": {},
   "outputs": [],
   "source": [
    "log_files = \"logs*/log-cross_cal* -lt\"\n",
    "log_plots = ls(log_files, section=\"Cross Calibration logs\")\n",
    "log_plots"
   ]
  },
  {
   "cell_type": "code",
   "execution_count": null,
   "metadata": {},
   "outputs": [],
   "source": [
    "log_files = \"logs*/log-inspect_data* -lt\"\n",
    "log_plots = ls(log_files, section=\"Inspect data logs\")\n",
    "log_plots"
   ]
  },
  {
   "cell_type": "code",
   "execution_count": null,
   "metadata": {},
   "outputs": [],
   "source": [
    "log_files = \"logs*/log-transform_data* -lt\"\n",
    "log_plots = ls(log_files, section=\"Transform data logs\")\n",
    "log_plots"
   ]
  },
  {
   "cell_type": "code",
   "execution_count": null,
   "metadata": {},
   "outputs": [],
   "source": [
    "log_files = \"logs*/log-flagging-*flagging__* -lt\"\n",
    "log_plots = ls(log_files, section=\"Target flagging logs\")\n",
    "log_plots"
   ]
  },
  {
   "cell_type": "code",
   "execution_count": null,
   "metadata": {},
   "outputs": [],
   "source": [
    "log_files = \"logs*/log-self_cal* -lt\"\n",
    "log_plots = ls(log_files, section=\"Self-Calibration logs\")\n",
    "log_plots"
   ]
  },
  {
   "cell_type": "code",
   "execution_count": null,
   "metadata": {},
   "outputs": [],
   "source": [
    "log_files = \"logs*/log-direction_dependent_calibration* -lt\"\n",
    "log_plots = ls(log_files, section=\"DD-Calibration logs\")\n",
    "log_plots"
   ]
  },
  {
   "cell_type": "code",
   "execution_count": null,
   "metadata": {},
   "outputs": [],
   "source": [
    "log_files = \"logs*/log-image_line* -lt\"\n",
    "log_plots = ls(log_files, section=\"Image line logs\")\n",
    "log_plots"
   ]
  }
 ],
 "metadata": {
  "kernelspec": {
   "display_name": "radiopadre",
   "language": "python",
   "name": "radiopadre"
  },
  "language_info": {
   "codemirror_mode": {
    "name": "ipython",
    "version": 3
   },
   "file_extension": ".py",
   "mimetype": "text/x-python",
   "name": "python",
   "nbconvert_exporter": "python",
   "pygments_lexer": "ipython3",
   "version": "3.6.9"
  }
 },
 "nbformat": 4,
 "nbformat_minor": 4
}
