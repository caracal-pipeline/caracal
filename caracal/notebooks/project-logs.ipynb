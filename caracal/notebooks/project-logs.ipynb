{
 "cells": [
  {
   "cell_type": "code",
   "execution_count": null,
   "metadata": {},
   "outputs": [],
   "source": [
    "from radiopadre import ls\n",
    "from radiopadre.layouts import Title\n",
    "import radiopadre\n",
    "radiopadre.hide_cell_code()\n",
    "Title(\"Data Reduction Logs For {{ title }}{{ suffix }}\",                                          # edit the title as you like\n",
    "      logo=\"reports/caracal-logo-200px.png\", logo_width=100, logo_padding=8, \n",
    "      icon=\"reports/caracal-square-logo-32px.png\", icon_width=16,\n",
    "     )"
   ]
  },
  {
   "cell_type": "code",
   "execution_count": null,
   "metadata": {},
   "outputs": [],
   "source": [
    "log_files = \"log-caracal.txt\"\n",
    "log_table = ls(log_files, section=\"*Main\")\n",
    "log_table.thumbs(head=0, tail=15)"
   ]
  },
  {
   "cell_type": "code",
   "execution_count": null,
   "metadata": {},
   "outputs": [],
   "source": [
    "log_files = \"logs-*/log-obsconf* -lt\"\n",
    "log_table = ls(log_files, section=\"*Obsconf\")\n",
    "log_table"
   ]
  },
  {
   "cell_type": "code",
   "execution_count": null,
   "metadata": {},
   "outputs": [],
   "source": [
    "log_files = \"logs-*/log-prep* -lt\"\n",
    "log_table = ls(log_files, section=\"*Prepare\")\n",
    "log_table"
   ]
  },
  {
   "cell_type": "code",
   "execution_count": null,
   "metadata": {},
   "outputs": [],
   "source": [
    "log_files = \"logs-*/log-flag-flag-* -lt\"\n",
    "log_table = ls(log_files, section=\"*Flag\")\n",
    "log_table"
   ]
  },
  {
   "cell_type": "code",
   "execution_count": null,
   "metadata": {},
   "outputs": [],
   "source": [
    "log_files = \"logs-*/log-crosscal* -lt\"\n",
    "log_table = ls(log_files, section=\"*Crosscal\")\n",
    "log_table"
   ]
  },
  {
   "cell_type": "code",
   "execution_count": null,
   "metadata": {},
   "outputs": [],
   "source": [
    "log_files = \"logs-*/log-inspect* -lt\"\n",
    "log_table = ls(log_files, section=\"*Inspect\")\n",
    "log_table"
   ]
  },
  {
   "cell_type": "code",
   "execution_count": null,
   "metadata": {},
   "outputs": [],
   "source": [
    "log_files = \"logs-*/log-transform* -lt\"\n",
    "log_table = ls(log_files, section=\"*Transform\")\n",
    "log_table"
   ]
  },
  {
   "cell_type": "code",
   "execution_count": null,
   "metadata": {},
   "outputs": [],
   "source": [
    "log_files = \"logs-*/log-flagging-*flagging__* -lt\"\n",
    "log_table = ls(log_files, section=\"*Flag target\")\n",
    "log_table"
   ]
  },
  {
   "cell_type": "code",
   "execution_count": null,
   "metadata": {},
   "outputs": [],
   "source": [
    "log_files = \"logs-*/log-selfcal* -lt\"\n",
    "log_table = ls(log_files, section=\"*Selfcal\")\n",
    "log_table"
   ]
  },
  {
   "cell_type": "code",
   "execution_count": null,
   "metadata": {},
   "outputs": [],
   "source": [
    "log_files = \"logs-*/log-ddcal* -lt\"\n",
    "log_table = ls(log_files, section=\"*DD-cal\")\n",
    "log_table"
   ]
  },
  {
   "cell_type": "code",
   "execution_count": null,
   "metadata": {},
   "outputs": [],
   "source": [
    "log_files = \"logs-*/log-line* -lt\"\n",
    "log_table = ls(log_files, section=\"*Line\")\n",
    "log_table"
   ]
  }
 ],
 "metadata": {
  "kernelspec": {
   "display_name": "radiopadre",
   "language": "python",
   "name": "radiopadre"
  },
  "language_info": {
   "codemirror_mode": {
    "name": "ipython",
    "version": 3
   },
   "file_extension": ".py",
   "mimetype": "text/x-python",
   "name": "python",
   "nbconvert_exporter": "python",
   "pygments_lexer": "ipython3",
   "version": "3.6.9"
  }
 },
 "nbformat": 4,
 "nbformat_minor": 4
}