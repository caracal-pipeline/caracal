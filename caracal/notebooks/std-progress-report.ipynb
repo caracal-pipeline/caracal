{
 "cells": [
  {
   "cell_type": "code",
   "execution_count": null,
   "metadata": {},
   "outputs": [],
   "source": [
    "from radiopadre import ls                                       # everyone needs an ls function \n",
    "from radiopadre.layouts import Title, Section                  \n",
    "Title(\"Project title goes here\",                                    # edit the title as you like\n",
    "                                          \"Logs | Reports | Plots | Obsinfo | Images | Caltables\") # sets up sections "
   ]
  },
  {
   "cell_type": "code",
   "execution_count": null,
   "metadata": {
    "scrolled": false
   },
   "outputs": [],
   "source": [
    "logs = ls(\"logs/log*txt -rt\", section=\"*Logs\").filter(bool)\n",
    "logs.title = \"CARACal logs (most recent first)\"\n",
    "logs.thumbs(head=0, tail=10)"
   ]
  },
  {
   "cell_type": "code",
   "execution_count": null,
   "metadata": {},
   "outputs": [],
   "source": [
    "ls(\"reports/*html -rt\", section=\"*Reports\").thumbs"
   ]
  },
  {
   "cell_type": "code",
   "execution_count": null,
   "metadata": {
    "scrolled": false
   },
   "outputs": [],
   "source": [
    "ls(\"diagnostic_plots/crosscal -rt\", section=\"*Plots\").thumbs"
   ]
  },
  {
   "cell_type": "code",
   "execution_count": null,
   "metadata": {},
   "outputs": [],
   "source": [
    "ls(\"*obsinfo.txt *elev*png\", section=\"Obsinfo\").thumbs"
   ]
  },
  {
   "cell_type": "code",
   "execution_count": null,
   "metadata": {},
   "outputs": [],
   "source": [
    "ls(\"continuum/image*/*MFS*fits\", section=\"*Images\").thumbs(vmin=-0.0001, vmax=0.001, zoom=8)"
   ]
  },
  {
   "cell_type": "code",
   "execution_count": null,
   "metadata": {},
   "outputs": [],
   "source": [
    "ls(\"caltables/*-*-*.*\", section=\"*Caltables\").thumbs"
   ]
  }
 ],
 "metadata": {
  "kernelspec": {
   "display_name": "radiopadre",
   "language": "python",
   "name": "radiopadre"
  },
  "language_info": {
   "codemirror_mode": {
    "name": "ipython",
    "version": 2
   },
   "file_extension": ".py",
   "mimetype": "text/x-python",
   "name": "python",
   "nbconvert_exporter": "python",
   "pygments_lexer": "ipython2",
   "version": "2.7.15+"
  }
 },
 "nbformat": 4,
 "nbformat_minor": 2
}
