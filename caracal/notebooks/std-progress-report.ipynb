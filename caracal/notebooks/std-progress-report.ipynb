{
 "cells": [
  {
   "cell_type": "code",
   "execution_count": null,
   "metadata": {},
   "outputs": [],
   "source": [
    "from radiopadre import ls                                        # everyone needs an ls function \n",
    "from radiopadre.layouts import Title, Section                  \n",
    "Title(\"Live progress report for {{ title }}{{ suffix }}\",            # edit the title as you like\n",
    "  logo=\"reports/caracal-logo-200px.png\", logo_width=100, logo_padding=8, \n",
    "  icon=\"reports/caracal-square-logo-32px.png\", icon_width=16) "
   ]
  },
  {
   "cell_type": "code",
   "execution_count": null,
   "metadata": {
    "scrolled": false
   },
   "outputs": [],
   "source": [
    "logs = ls(\"logs/log*txt -rt\", section=\"*Logs\").filter(bool)\n",
    "logs.thumbs(title=\"CARACal logs (most recent first)\", head=0, tail=10, collapsed=True)"
   ]
  },
  {
   "cell_type": "code",
   "execution_count": null,
   "metadata": {
    "scrolled": false
   },
   "outputs": [],
   "source": [
    "Section(\"* Plots\")\n",
    "for dd in ls(\"diagnostic_plots -R\").dirs:\n",
    "    ims = dd.images + dd.html\n",
    "    depth = dd.path.count(\"/\")\n",
    "    ims and ims.thumbs.show(collapsed=True, ncol=4 if depth<2 else 8, titles=depth<2)"
   ]
  },
  {
   "cell_type": "code",
   "execution_count": null,
   "metadata": {},
   "outputs": [],
   "source": [
    "ls(\"obsinfo/*obsinfo.txt obsinfo/*elev*png\", section=\"Obsinfo\").thumbs"
   ]
  },
  {
   "cell_type": "code",
   "execution_count": null,
   "metadata": {},
   "outputs": [],
   "source": [
    "ls(\"continuum/image*/*MFS*fits -rt\", section=\"*Images\").thumbs(vmin=-0.0001, vmax=0.01, zoom=8)"
   ]
  },
  {
   "cell_type": "code",
   "execution_count": null,
   "metadata": {},
   "outputs": [],
   "source": [
    "ls(\"continuum/crosscal*/*MFS*fits -rt\", section=\"*Images/crosscal\").thumbs(vmin=-0.0001, vmax=0.1, zoom=8)"
   ]
  },
  {
   "cell_type": "code",
   "execution_count": null,
   "metadata": {},
   "outputs": [],
   "source": [
    "ls(\"cubes/cube*/*fits -rt\", section=\"*Cubes\")"
   ]
  },
  {
   "cell_type": "code",
   "execution_count": null,
   "metadata": {},
   "outputs": [],
   "source": [
    "ls(\"reports/*html -rt\", section=\"*Reports\").thumbs"
   ]
  }
 ],
 "metadata": {
  "kernelspec": {
   "display_name": "radiopadre",
   "language": "python",
   "name": "radiopadre"
  },
  "language_info": {
   "codemirror_mode": {
    "name": "ipython",
    "version": 3
   },
   "file_extension": ".py",
   "mimetype": "text/x-python",
   "name": "python",
   "nbconvert_exporter": "python",
   "pygments_lexer": "ipython3",
   "version": "3.6.9"
  }
 },
 "nbformat": 4,
 "nbformat_minor": 2
}