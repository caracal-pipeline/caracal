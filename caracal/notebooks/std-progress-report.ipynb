{
 "cells": [
  {
   "cell_type": "code",
   "execution_count": null,
   "metadata": {},
   "outputs": [],
   "source": [
    "from radiopadre import ls                                       # everyone needs an ls function \n",
    "from radiopadre.layouts import Title, Section                  \n",
    "Title(\"Live progress report for {{ title }}{{ suffix }}\",            # edit the title as you like\n",
    "  \"Logs | Plots/top | Plots/raw | Plots/1GC | Plots/selfcal | Obsinfo | Images | Images/crosscal | Cubes | Reports\", \n",
    "  logo=\".logo/caracal-logo-200px.png\", logo_width=100, logo_padding=8, \n",
    "  icon=\".logo/caracal-square-logo-32px.png\", icon_width=16,\n",
    "  ) # sets up sections "
   ]
  },
  {
   "cell_type": "code",
   "execution_count": null,
   "metadata": {
    "scrolled": false
   },
   "outputs": [],
   "source": [
    "logs = ls(\"logs/log*txt -rt\", section=\"*Logs\").filter(bool)\n",
    "logs.title = \"CARACAl logs (most recent first)\"\n",
    "logs.thumbs(head=0, tail=10)"
   ]
  },
  {
   "cell_type": "code",
   "execution_count": null,
   "metadata": {
    "scrolled": false
   },
   "outputs": [],
   "source": [
    "ls(\"diagnostic_plots/ -rt\", section=\"*Plots/top\").thumbs"
   ]
  },
  {
   "cell_type": "code",
   "execution_count": null,
   "metadata": {
    "scrolled": false
   },
   "outputs": [],
   "source": [
    "ls(\"diagnostic_plots/initial -rt\", section=\"*Plots/raw\").thumbs"
   ]
  },
  {
   "cell_type": "code",
   "execution_count": null,
   "metadata": {
    "scrolled": false
   },
   "outputs": [],
   "source": [
    "ls(\"diagnostic_plots/crosscal -rt\", section=\"*Plots/1GC\").thumbs"
   ]
  },
  {
   "cell_type": "code",
   "execution_count": null,
   "metadata": {
    "scrolled": false
   },
   "outputs": [],
   "source": [
    "ls(\"diagnostic_plots/selfcal/*  continuum/selfcal_products/* -rt\", section=\"*Plots/selfcal\").thumbs"
   ]
  },
  {
   "cell_type": "code",
   "execution_count": null,
   "metadata": {},
   "outputs": [],
   "source": [
    "ls(\"obsinfo/*obsinfo.txt obsinfo/*elev*png\", section=\"Obsinfo\").thumbs"
   ]
  },
  {
   "cell_type": "code",
   "execution_count": null,
   "metadata": {},
   "outputs": [],
   "source": [
    "ls(\"continuum/image*/*MFS*fits -rt\", section=\"*Images\").thumbs(vmin=-0.0001, vmax=0.01, zoom=8)"
   ]
  },
  {
   "cell_type": "code",
   "execution_count": null,
   "metadata": {},
   "outputs": [],
   "source": [
    "ls(\"continuum/crosscal*/*MFS*fits -rt\", section=\"*Images/crosscal\").thumbs(vmin=-0.0001, vmax=0.1, zoom=8)"
   ]
  },
  {
   "cell_type": "code",
   "execution_count": null,
   "metadata": {},
   "outputs": [],
   "source": [
    "ls(\"cubes/cube*/*fits -rt\", section=\"*Cubes\")"
   ]
  },
  {
   "cell_type": "code",
   "execution_count": null,
   "metadata": {},
   "outputs": [],
   "source": [
    "ls(\"reports/*html -rt\", section=\"*Reports\").thumbs"
   ]
  }
 ],
 "metadata": {
  "kernelspec": {
   "display_name": "radiopadre",
   "language": "python",
   "name": "radiopadre"
  },
  "language_info": {
   "codemirror_mode": {
    "name": "ipython",
    "version": 3
   },
   "file_extension": ".py",
   "mimetype": "text/x-python",
   "name": "python",
   "nbconvert_exporter": "python",
   "pygments_lexer": "ipython3",
   "version": "3.6.9"
  }
 },
 "nbformat": 4,
 "nbformat_minor": 2
}
