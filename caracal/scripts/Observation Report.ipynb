{
 "cells": [
  {
   "cell_type": "code",
   "execution_count": null,
   "metadata": {},
   "outputs": [],
   "source": [
    "#These parameters are updated externally... Do not move them\n",
    "msname = \"1491291289.1ghz.1.1ghz.4hrs\"\n",
    "outputdir = \"output\"\n",
    "msindex = 0"
   ]
  },
  {
   "cell_type": "markdown",
   "metadata": {},
   "source": [
    "# Observation report\n",
    "\n",
    "## Table of Contents: <a name=\"toc\"></a>\n",
    "\n",
    "1. [Observation Info](#obsInfo)\n",
    "2. [Flagging Statistics](#flagStats)\n",
    "3. [Images](#images)\n",
    "4. [HI cubes](#hiCubes)\n",
    "5. [Cross calibration diagnostics](#ccal)\n",
    "    1. [Calibration solutions](#crossCal)\n",
    "    2. [Visibility diagnostic plots](#visdiags)"
   ]
  },
  {
   "cell_type": "code",
   "execution_count": null,
   "metadata": {},
   "outputs": [],
   "source": [
    "from IPython.display import HTML\n",
    "HTML(\"\"\"\n",
    "        <script>\n",
    "            code_show=true; \n",
    "            function code_toggle() {\n",
    "                if (code_show){\n",
    "                    $('div.input').hide();\n",
    "                } else {\n",
    "                    $('div.input').show();\n",
    "                }\n",
    "                code_show = !code_show\n",
    "            } \n",
    "            $( document ).ready(code_toggle);\n",
    "        </script>\n",
    "\n",
    "        The raw code for this notebook is by default hidden for easier reading. To toggle on/off the raw code, click <a href=\"javascript:code_toggle()\">here</a>.\n",
    "     \"\"\")\n"
   ]
  },
  {
   "cell_type": "code",
   "execution_count": null,
   "metadata": {},
   "outputs": [],
   "source": [
    "HTML(\"<style>.container { width:100% !important; }</style>\")"
   ]
  },
  {
   "cell_type": "code",
   "execution_count": null,
   "metadata": {},
   "outputs": [],
   "source": [
    "from os import path, devnull\n",
    "import sys\n",
    "fdevnull = open(devnull, \"w\")\n",
    "sys.stdout = fdevnull\n",
    "sys.stderr = fdevnull\n",
    "            \n",
    "import numpy as np\n",
    "from matplotlib import pyplot as plt\n",
    "from glob import glob\n",
    "import aplpy\n",
    "\n",
    "import ipywidgets\n",
    "from ipywidgets import  Tab, Accordion, HTML, HBox\n",
    "def Image(f):\n",
    "    with open(f, \"rb\") as fdata: \n",
    "        return ipywidgets.Image(value=fdata.read(), format='png')\n",
    "from IPython.display import display, IFrame\n",
    "import base64\n"
   ]
  },
  {
   "cell_type": "code",
   "execution_count": null,
   "metadata": {},
   "outputs": [],
   "source": [
    "def safe_load(filename, mimetype, *args, **kwargs):\n",
    "    try:\n",
    "        if mimetype == \"image/png\":\n",
    "            return Image(filename)\n",
    "        elif mimetype == \"text/plain\":\n",
    "            with open(filename, 'r') as f:\n",
    "                txt = f.read()\n",
    "            packet = base64.encodestring(txt)\n",
    "            return HTML(\"<iframe src=\\\"data:%s;base64,%s\\\" width=\\\"%s\\\" height=\\\"%s\\\"/>\" % (mimetype, \n",
    "                    packet, args[0], args[1]))\n",
    "        elif mimetype == \"application/fits\":\n",
    "            f = aplpy.FITSFigure(filename, \n",
    "                                 figsize=kwargs.pop(\"figsize\", (15,15)))\n",
    "            label = path.basename(filename)\n",
    "            f.add_label(0.5, 0.98, label, relative=True)\n",
    "            f.show_colorscale(*args, **kwargs)\n",
    "            f.add_colorbar()\n",
    "            f.add_beam()\n",
    "            f.beam.set_color('magenta')\n",
    "            f.beam.set_hatch('+')\n",
    "            f.save(\"/tmp/caracal_aplpy_img.png\")\n",
    "            f.close()\n",
    "            return Image(\"/tmp/caracal_aplpy_img.png\")\n",
    "        elif mimetype == \"text/html\":\n",
    "            with open(filename, 'r') as f:\n",
    "                txt = f.read()\n",
    "            packet = base64.encodestring(txt)\n",
    "            return HTML(\"<iframe src=\\\"data:%s;base64,%s\\\" width=\\\"%s\\\" height=\\\"%s\\\"/>\" % (mimetype, \n",
    "                    packet, args[0], args[1]))\n",
    "        else:\n",
    "            raise ValueError(\"unsupported type\")\n",
    "    except Exception, e:\n",
    "        return HTML(\"<p style='color:#ff0000; font-weight:bold'>Could not load specified files. \"\n",
    "                    \"This step may not have run, or there was a trainsmash. Check the logs</p>\")"
   ]
  },
  {
   "cell_type": "markdown",
   "metadata": {},
   "source": [
    "# Observation info <a class=\"anchor\" id=\"obsInfo\"></a>"
   ]
  },
  {
   "cell_type": "code",
   "execution_count": null,
   "metadata": {},
   "outputs": [],
   "source": [
    "HTML(\"<p style='text-align: right;'> <a href='#toc'>Back to Top</a> </p>\")"
   ]
  },
  {
   "cell_type": "code",
   "execution_count": null,
   "metadata": {},
   "outputs": [],
   "source": [
    "display(safe_load(\"%s/caracal-%s-obsinfo.txt\" % (outputdir, msname), \"text/plain\", \"100%\", 300))"
   ]
  },
  {
   "cell_type": "markdown",
   "metadata": {},
   "source": [
    "# Flagging statistics <a class=\"anchor\" id=\"flagStats\"></a>"
   ]
  },
  {
   "cell_type": "code",
   "execution_count": null,
   "metadata": {},
   "outputs": [],
   "source": [
    "HTML(\"<p style='text-align: right;'> <a href='#toc'>Back to Top</a> </p>\")"
   ]
  },
  {
   "cell_type": "code",
   "execution_count": null,
   "metadata": {},
   "outputs": [],
   "source": [
    "flaglog_tab = Tab()\n",
    "def tryload_flaglog(fname, title):\n",
    "    children = list(flaglog_tab.children)\n",
    "    children.append(safe_load(fname, \"text/plain\", \"100%\", 300))\n",
    "    flaglog_tab.children = children\n",
    "    flaglog_tab.set_title(len(children) - 1, title)\n",
    "tryload_flaglog(\"%s/log-flagging_summary_flagging_%d_.txt\" % (outputdir, msindex), \"Precalibration flagging\")\n",
    "tryload_flaglog(\"%s/log-flagging_summary_crosscal_%d.txt\" % (outputdir, msindex), \"After apply calibration\")\n",
    "tryload_flaglog(\"%s/log-flagging_summary_flagging_%d_corr.txt\" % (outputdir, msindex), \"Target flagging\")\n",
    "tryload_flaglog(\"%s/log-flagging_summary_image_selfcal_%d.txt\" % (outputdir, msindex), \"After self calibration\")\n",
    "tryload_flaglog(\"%s/log-flagging_summary_image_HI_%d.txt\" % (outputdir, msindex), \"After HI imaging\")\n",
    "display(flaglog_tab)"
   ]
  },
  {
   "cell_type": "markdown",
   "metadata": {},
   "source": [
    "# Images <a class=\"anchor\" id=\"images\"></a>"
   ]
  },
  {
   "cell_type": "code",
   "execution_count": null,
   "metadata": {},
   "outputs": [],
   "source": [
    "HTML(\"<p style='text-align: right;'> <a href='#toc'>Back to Top</a> </p>\")"
   ]
  },
  {
   "cell_type": "code",
   "execution_count": null,
   "metadata": {},
   "outputs": [],
   "source": [
    "velz = zip(glob(\"%s/*-MFS-image.fits\" % outputdir), glob(\"%s/*-MFS-residual.fits\" % outputdir))\n",
    "if len(velz) == 0:\n",
    "    display(HTML(\"<p style='color:#ff0000; font-weight:bold'>Could not load any restored images. \"\n",
    "                    \"This step may not have run, or there was a trainsmash. Check the logs</p>\"))\n",
    "children = []\n",
    "titles = []\n",
    "for im, res in velz:\n",
    "    acchildren = []\n",
    "    acchildren.append(safe_load(im,\n",
    "                                \"application/fits\", \n",
    "                                pmin=0, pmax=99.99, cmap=\"cubehelix\", interpolation=\"bicubic\", figsize=(10,10)))\n",
    "    acchildren.append(safe_load(res,\n",
    "                                \"application/fits\", \n",
    "                                pmin=0, pmax=99.99, cmap=\"cubehelix\", interpolation=\"bicubic\", figsize=(10,10)))\n",
    "    titles.append(path.basename(im).replace(\"-MFS-image.fits\", \"\"))\n",
    "    accordion = Accordion(acchildren)\n",
    "    accordion.set_title(0, 'Image')\n",
    "    accordion.set_title(1, 'Residual')\n",
    "    children.append(accordion)\n",
    "\n",
    "children.append(safe_load(\"%s/caracal-pipeline.fullrest.fits\" % outputdir,\n",
    "                          \"application/fits\", \n",
    "                          pmin=0.1, pmax=99.99, cmap=\"cubehelix\", interpolation=\"bicubic\", figsize=(10,10)))\n",
    "titles.append(\"Full restore\")\n",
    "    \n",
    "tab = Tab()\n",
    "tab.children = children\n",
    "for i, title in zip(xrange(len(children)), titles): tab.set_title(i, title)\n",
    "display(tab)\n"
   ]
  },
  {
   "cell_type": "markdown",
   "metadata": {},
   "source": [
    "# HI Cubes "
   ]
  },
  {
   "cell_type": "code",
   "execution_count": null,
   "metadata": {},
   "outputs": [],
   "source": [
    "HTML(\"<p style='text-align: right;'> <a href='#toc'>Back to Top</a> </p>\")"
   ]
  },
  {
   "cell_type": "markdown",
   "metadata": {},
   "source": [
    "!!!TODO!!!"
   ]
  },
  {
   "cell_type": "markdown",
   "metadata": {},
   "source": [
    "# Cross-calibration diagnostics <a class=\"anchor\" id=\"ccal\"></a>\n",
    "\n",
    "## Calibration solutions <a class=\"anchor\" id=\"crossCal\"></a>"
   ]
  },
  {
   "cell_type": "code",
   "execution_count": null,
   "metadata": {},
   "outputs": [],
   "source": [
    "HTML(\"<p style='text-align: right;'> <a href='#toc'>Back to Top</a> </p>\")"
   ]
  },
  {
   "cell_type": "code",
   "execution_count": null,
   "metadata": {},
   "outputs": [],
   "source": [
    "tab = Tab()\n",
    "tab.children = [\n",
    "    safe_load(\"%s/caracal-%s-1gc1-K0.html\" % (outputdir, msname), \"text/html\", \"100%\", 700),\n",
    "    safe_load(\"%s/caracal-%s-1gc1-B0.html\" % (outputdir, msname), \"text/html\", \"100%\", 700),\n",
    "    safe_load(\"%s/caracal-%s-1gc1-F0.html\" % (outputdir, msname), \"text/html\", \"100%\", 700),\n",
    "]\n",
    "titles = [\"delay\",\"bandpass\",\"fluxscale\"]\n",
    "for i, title in zip(xrange(len(children)), titles): tab.set_title(i, title)\n",
    "display(tab)"
   ]
  },
  {
   "cell_type": "markdown",
   "metadata": {},
   "source": [
    "## Visibility diagnostic plots <a class=\"anchor\" id=\"visdiags\"></a>"
   ]
  },
  {
   "cell_type": "code",
   "execution_count": null,
   "metadata": {},
   "outputs": [],
   "source": [
    "HTML(\"<p style='text-align: right;'> <a href='#toc'>Back to Top</a> </p>\")"
   ]
  },
  {
   "cell_type": "code",
   "execution_count": null,
   "metadata": {},
   "outputs": [],
   "source": [
    "visdiags_tab = Tab()\n",
    "def visdiags_ldimage(fnames, accordion_title, subtitle, maintitle):\n",
    "    children = list(visdiags_tab.children)\n",
    "    titles = [visdiags_tab.get_title(i) for i in xrange(len(children))]\n",
    "    if maintitle in titles:\n",
    "        mainpg_indx = titles.index(maintitle)\n",
    "        subpg_children = list(visdiags_tab.children[mainpg_indx].children)\n",
    "        titles_subpages = [visdiags_tab.children[mainpg_indx].get_title(i) for i in xrange(len(subpg_children))]\n",
    "        if subtitle in titles_subpages:\n",
    "            subpg_indx = titles_subpages.index(subtitle)\n",
    "            accordion = visdiags_tab.children[mainpg_indx].children[subpg_indx]\n",
    "            if len(fnames) == 0:\n",
    "                accordion_children = [HTML(\"<p style='color:#ff0000; font-weight:bold'> \"\n",
    "                    \"This step may not have run, or there was a trainsmash. Check the logs</p>\")]\n",
    "            else:\n",
    "                accordion_children = [safe_load(f, \"image/png\") for f in fnames]\n",
    "            accordion.children = list(accordion.children) + [HBox(accordion_children)]\n",
    "            accordion.set_title(len(accordion.children) - 1, accordion_title)\n",
    "        else:\n",
    "            subpages = visdiags_tab.children[mainpg_indx]\n",
    "            if len(fnames) == 0:\n",
    "                accordion_children = [HTML(\"<p style='color:#ff0000; font-weight:bold'> \"\n",
    "                    \"This step may not have run, or there was a trainsmash. Check the logs</p>\")]\n",
    "            else:\n",
    "                accordion_children = [safe_load(f, \"image/png\") for f in fnames]\n",
    "            accordion = Accordion([HBox(accordion_children)])\n",
    "            accordion.set_title(len(accordion.children) - 1, accordion_title)\n",
    "            accordion.set_title(-1, \"value\")\n",
    "            subpages.children = list(subpages.children) + [accordion]\n",
    "            subpages.set_title(len(subpages.children) - 1, subtitle)\n",
    "    else:\n",
    "        subpages = Tab()\n",
    "        if len(fnames) == 0:\n",
    "            accordion_children = [HTML(\"<p style='color:#ff0000; font-weight:bold'> \"\n",
    "                \"This step may not have run, or there was a trainsmash. Check the logs</p>\")]\n",
    "        else:\n",
    "            accordion_children = [safe_load(f, \"image/png\") for f in fnames]\n",
    "        accordion = Accordion([HBox(accordion_children)])\n",
    "        accordion.set_title(len(accordion.children) - 1, accordion_title)\n",
    "        subpages.children = [accordion]\n",
    "        visdiags_tab.children = list(visdiags_tab.children) + [subpages]\n",
    "        visdiags_tab.set_title(len(visdiags_tab.children) - 1, maintitle)\n",
    "        subpages.set_title(len(subpages.children) - 1, subtitle)\n",
    "visdiags_ldimage(glob(\"%s/caracal-%s-1gc1-bpcal-scan-ap_*.png\" % \n",
    "                      (outputdir, msname)),\n",
    "                 \"coloured by scan\", \"Bandpass Field\", \"Amp v Phase\")\n",
    "\n",
    "visdiags_ldimage(glob(\"%s/caracal-%s-1gc1-bpcal-baseline-ap_*.png\" % \n",
    "                      (outputdir, msname)),\n",
    "                 \"coloured by baseline\", \"Bandpass Field\", \"Amp v Phase\")\n",
    "visdiags_ldimage(glob(\"%s/caracal-%s-1gc1-gcal-scan-ap_*.png\" % \n",
    "                      (outputdir, msname)),\n",
    "                 \"coloured by scan\", \"Gain Field\", \"Amp v Phase\")\n",
    "visdiags_ldimage(glob(\"%s/caracal-%s-1gc1-gcal-baseline-ap_*.png\" % \n",
    "                      (outputdir, msname)),\n",
    "                 \"coloured by baseline\", \"Gain Field\", \"Amp v Phase\")\n",
    "visdiags_ldimage(glob(\"%s/caracal-%s-1gc1-bpcal-scan-reim_*.png\" % \n",
    "                      (outputdir, msname)),\n",
    "                 \"coloured by scan\", \"Bandpass Field\", \"Real v Imaginary\")\n",
    "visdiags_ldimage(glob(\"%s/caracal-%s-1gc1-bpcal-baseline-reim_*.png\" % \n",
    "                      (outputdir, msname)),\n",
    "                 \"coloured by baseline\", \"Bandpass Field\", \"Real v Imaginary\")\n",
    "visdiags_ldimage(glob(\"%s/caracal-%s-1gc1-gcal-scan-reim_*.png\" % \n",
    "                      (outputdir, msname)),\n",
    "                 \"coloured by scan\", \"Gain Field\", \"Real v Imaginary\")\n",
    "visdiags_ldimage(glob(\"%s/caracal-%s-1gc1-gcal-baseline-reim_*.png\" % \n",
    "                      (outputdir, msname)),\n",
    "                 \"coloured by baseline\", \"Gain Field\", \"Real v Imaginary\")\n",
    "visdiags_ldimage(glob(\"%s/caracal-%s-1gc1-bpcal-ampuvwave_*.png\" % \n",
    "                      (outputdir, msname)),\n",
    "                 \"amplitude\", \"Bandpass Field\", \"UVwave\")\n",
    "visdiags_ldimage(glob(\"%s/caracal-%s-1gc1-gcal-ampuvwave_*.png\" % \n",
    "                      (outputdir, msname)),\n",
    "                 \"amplitude\", \"Gain Field\", \"UVwave\")\n",
    "visdiags_ldimage(glob(\"%s/caracal-%s-1gc1-bpcal-phaseuvwave_*.png\" % \n",
    "                      (outputdir, msname)),\n",
    "                 \"phase\", \"Bandpass Field\", \"UVwave\")\n",
    "visdiags_ldimage(glob(\"%s/caracal-%s-1gc1-gcal-phaseuvwave_*.png\" % \n",
    "                      (outputdir, msname)),\n",
    "                 \"phase\", \"Gain Field\", \"UVwave\")\n",
    "visdiags_ldimage(glob(\"%s/caracal-%s-1gc1-bpcal-ampscan_*.png\" % \n",
    "                      (outputdir, msname)),\n",
    "                 \"coloured by baseline\", \"Bandpass Field\", \"Amp v Scan\")\n",
    "visdiags_ldimage(glob(\"%s/caracal-%s-1gc1-gcal-ampscan_*.png\" % \n",
    "                      (outputdir, msname)),\n",
    "                 \"coloured by baseline\", \"Gain Field\", \"Amp v Scan\")\n",
    "visdiags_ldimage(glob(\"%s/caracal-%s-1gc1-target-ampscan_*.png\" % \n",
    "                      (outputdir, msname)),\n",
    "                 \"coloured by baseline\", \"Target Field\", \"Amp v Scan\")\n",
    "velz = glob(\"%s/%s.ms-AUTOCORR-FIELD-*-CORR-*.png\" % \n",
    "                      (outputdir, msname))\n",
    "for v in velz:\n",
    "    title = \"Correlation {0:s}\".format(v.split(\"-CORR-\")[1])\n",
    "    field = v.split(\"FIELD-\")[1].split(\"-CORR\")[0]\n",
    "    visdiags_ldimage([v],\n",
    "                     title, field, \"Auto Power\")\n",
    "velz = glob(\"%s/%s.ms-PHASE-FIELD-*-CORR-*\" % \n",
    "                      (outputdir, msname))\n",
    "for v in velz:\n",
    "    title = \"Correlation {0:s}\".format(v.split(\"-CORR-\")[1])\n",
    "    field = v.split(\"FIELD-\")[1].split(\"-CORR\")[0]\n",
    "    visdiags_ldimage([v],\n",
    "                     title, field, \"Phase Spectra\")\n",
    "display(visdiags_tab)"
   ]
  },
  {
   "cell_type": "code",
   "execution_count": null,
   "metadata": {},
   "outputs": [],
   "source": []
  }
 ],
 "metadata": {
  "kernelspec": {
   "display_name": "Python 2",
   "language": "python",
   "name": "python2"
  },
  "language_info": {
   "codemirror_mode": {
    "name": "ipython",
    "version": 2
   },
   "file_extension": ".py",
   "mimetype": "text/x-python",
   "name": "python",
   "nbconvert_exporter": "python",
   "pygments_lexer": "ipython2",
   "version": "2.7.12"
  }
 },
 "nbformat": 4,
 "nbformat_minor": 1
}
