{
 "cells": [
  {
   "cell_type": "code",
   "execution_count": null,
   "metadata": {
    "collapsed": true
   },
   "outputs": [],
   "source": [
    "#These parameters are updated externally... Do not move them\n",
    "msname = None\n",
    "outputdir = \"output\"\n",
    "msindex = 0"
   ]
  },
  {
   "cell_type": "markdown",
   "metadata": {},
   "source": [
    "# Observation report\n",
    "\n",
    "## Table of Contents: <a name=\"toc\"></a>\n",
    "\n",
    "1. [Observation Info](#obsInfo)\n",
    "2. [Flagging Statistics](#flagStats)\n",
    "    1. [After calibration flagging](#preCalFlag)\n",
    "    2. [After apply calibration](#transCalFlag)\n",
    "    3. [Target flagging](#targFlag)\n",
    "    4. [After self-calibration](#selfCalFlag)\n",
    "    5. [After HI imaging](#hiFlag)\n",
    "3. [Images](#images)\n",
    "    1. [Full-restored](#fullRest)\n",
    "4. [HI cubes](#hiCubes)\n",
    "5. [Cross calibration diagnostics](#ccal)\n",
    "    1. [Calibration solutions](#crossCal)\n",
    "        1. [Delays](#delay)\n",
    "        2. [Bandpass](#bandpass)\n",
    "        3. [Fluxscaled gains](#fluxGains)\n",
    "    2. [Time spectra](#timeSpec)\n",
    "    3. [Calibrated Phases](#calPhases)\n",
    "    4. [Phase balls](#phaseBalls)\n",
    "        1. [Bandpass](#bandpassBalls)\n",
    "        2. [Gain calibrator](#gainBalls)\n",
    "    5. [Real vs Imaginary](#ReIm)\n",
    "        1. [Bandpass](#bandpassReIm)\n",
    "        2. [Gain calibrator](#gainReIm)\n",
    "    6. [Amp vs. UV$\\lambda$](#ampUVdist)\n",
    "        1. [Bandpass](#bandpassAmpUVdist)\n",
    "        2. [Gain calibrator](#gainAmpUVdist)\n",
    "    7. [Phase vs UV$\\lambda$](#phaseUVdist)\n",
    "        1. [Bandpass](#bandpassPhaseUVdist)\n",
    "        2. [Gain calibrator](#gainPhaseUVdist)\n",
    "    8. [Amplitude vs. Scan](#ampScan)\n",
    "        1. [Bandpass](#bandpassAmpScan)\n",
    "        2. [Gain calibrator](#gainAmpScan)   \n",
    "        3. [Target](#targetAmpScan)"
   ]
  },
  {
   "cell_type": "code",
   "execution_count": null,
   "metadata": {
    "collapsed": false
   },
   "outputs": [],
   "source": [
    "from IPython.display import HTML\n",
    "HTML(\"\"\"\n",
    "        <script>\n",
    "            code_show=true; \n",
    "            function code_toggle() {\n",
    "                if (code_show){\n",
    "                    $('div.input').hide();\n",
    "                } else {\n",
    "                    $('div.input').show();\n",
    "                }\n",
    "                code_show = !code_show\n",
    "            } \n",
    "            $( document ).ready(code_toggle);\n",
    "        </script>\n",
    "\n",
    "        The raw code for this notebook is by default hidden for easier reading. To toggle on/off the raw code, click <a href=\"javascript:code_toggle()\">here</a>.\n",
    "     \"\"\")"
   ]
  },
  {
   "cell_type": "code",
   "execution_count": null,
   "metadata": {
    "collapsed": false
   },
   "outputs": [],
   "source": [
    "import numpy as np\n",
    "from matplotlib import pyplot as plt\n",
    "from glob import glob\n",
    "import aplpy\n",
    "from os import path\n",
    "from IPython.display import Image, display, HTML, IFrame\n",
    "import base64\n",
    "\n",
    "%matplotlib inline"
   ]
  },
  {
   "cell_type": "code",
   "execution_count": null,
   "metadata": {
    "collapsed": true
   },
   "outputs": [],
   "source": [
    "def safe_load(filename, mimetype, *args, **kwargs):\n",
    "    try:\n",
    "        if mimetype == \"image/png\":\n",
    "            return Image(filename)\n",
    "        elif mimetype == \"text/plain\":\n",
    "            with open(filename, 'r') as f:\n",
    "                txt = f.read()\n",
    "            packet = base64.encodestring(txt)\n",
    "            return IFrame(\"data:%s;base64,%s\" % (mimetype, packet), *args, **kwargs)\n",
    "        elif mimetype == \"application/fits\":\n",
    "            f = aplpy.FITSFigure(filename, \n",
    "                                 figsize=kwargs.pop(\"figsize\", (15,15)))\n",
    "            f.show_colorscale(*args, **kwargs)\n",
    "            f.add_colorbar()\n",
    "            f.add_beam()\n",
    "            f.beam.set_color('magenta')\n",
    "            f.beam.set_hatch('+')\n",
    "            return f\n",
    "        elif mimetype == \"text/html\":\n",
    "            with open(filename, 'r') as f:\n",
    "                txt = f.read()\n",
    "            packet = base64.encodestring(txt)\n",
    "            return IFrame(\"data:%s;base64,%s\" % (mimetype, packet), *args, **kwargs)\n",
    "        else:\n",
    "            raise ValueError(\"unsupported type\")\n",
    "    except:\n",
    "        return HTML(\"<p style='color:#ff0000; font-weight:bold'>Could not load specified files. \"\n",
    "                    \"This step may not have run, or there was a trainsmash. Check the logs</p>\")"
   ]
  },
  {
   "cell_type": "markdown",
   "metadata": {},
   "source": [
    "# Observation info <a class=\"anchor\" id=\"obsInfo\"></a>"
   ]
  },
  {
   "cell_type": "code",
   "execution_count": null,
   "metadata": {
    "collapsed": true
   },
   "outputs": [],
   "source": [
    "HTML(\"<p style='text-align: right;'> <a href='#toc'>Back to Top</a> </p>\")"
   ]
  },
  {
   "cell_type": "code",
   "execution_count": null,
   "metadata": {
    "collapsed": false
   },
   "outputs": [],
   "source": [
    "display(safe_load(\"%s/caracal-%s-obsinfo.txt\" % (outputdir, msname), \"text/plain\", 800, 300))"
   ]
  },
  {
   "cell_type": "markdown",
   "metadata": {},
   "source": [
    "# Flagging statistics <a class=\"anchor\" id=\"flagStats\"></a>\n",
    "\n",
    "## Precalibration flagging <a class=\"anchor\" id=\"preCalFlag\"></a>"
   ]
  },
  {
   "cell_type": "code",
   "execution_count": null,
   "metadata": {
    "collapsed": true
   },
   "outputs": [],
   "source": [
    "HTML(\"<p style='text-align: right;'> <a href='#toc'>Back to Top</a> </p>\")"
   ]
  },
  {
   "cell_type": "code",
   "execution_count": null,
   "metadata": {
    "collapsed": false
   },
   "outputs": [],
   "source": [
    "tryload_flaglog = lambda fname: display(safe_load(fname, \"text/plain\", 800, 300))\n",
    "tryload_flaglog(\"%s/log-flagging_summary_flagging_%d_.txt\" % (outputdir, msindex))"
   ]
  },
  {
   "cell_type": "markdown",
   "metadata": {},
   "source": [
    "## After apply calibration  <a class=\"anchor\" id=\"transCalFlag\"></a>\n"
   ]
  },
  {
   "cell_type": "code",
   "execution_count": null,
   "metadata": {
    "collapsed": true
   },
   "outputs": [],
   "source": [
    "HTML(\"<p style='text-align: right;'> <a href='#toc'>Back to Top</a> </p>\")"
   ]
  },
  {
   "cell_type": "code",
   "execution_count": null,
   "metadata": {
    "collapsed": false
   },
   "outputs": [],
   "source": [
    "tryload_flaglog(\"%s/log-flagging_summary_crosscal_%d.txt\" % (outputdir, msindex))"
   ]
  },
  {
   "cell_type": "markdown",
   "metadata": {},
   "source": [
    "## Target flagging <a class=\"anchor\" id=\"targFlag\"></a>"
   ]
  },
  {
   "cell_type": "code",
   "execution_count": null,
   "metadata": {
    "collapsed": true
   },
   "outputs": [],
   "source": [
    "HTML(\"<p style='text-align: right;'> <a href='#toc'>Back to Top</a> </p>\")"
   ]
  },
  {
   "cell_type": "code",
   "execution_count": null,
   "metadata": {
    "collapsed": false
   },
   "outputs": [],
   "source": [
    "tryload_flaglog(\"%s/log-flagging_summary_flagging_%d_corr.txt\" % (outputdir, msindex))"
   ]
  },
  {
   "cell_type": "markdown",
   "metadata": {},
   "source": [
    "## After self calibration flags <a class=\"anchor\" id=\"selfCalFlag\"></a>"
   ]
  },
  {
   "cell_type": "code",
   "execution_count": null,
   "metadata": {
    "collapsed": true
   },
   "outputs": [],
   "source": [
    "HTML(\"<p style='text-align: right;'> <a href='#toc'>Back to Top</a> </p>\")"
   ]
  },
  {
   "cell_type": "code",
   "execution_count": null,
   "metadata": {
    "collapsed": false
   },
   "outputs": [],
   "source": [
    "tryload_flaglog(\"%s/log-flagging_summary_image_selfcal_%d.txt\" % (outputdir, msindex))"
   ]
  },
  {
   "cell_type": "markdown",
   "metadata": {},
   "source": [
    "## After HI imaging <a class=\"anchor\" id=\"hiFlag\"></a>"
   ]
  },
  {
   "cell_type": "code",
   "execution_count": null,
   "metadata": {
    "collapsed": true
   },
   "outputs": [],
   "source": [
    "HTML(\"<p style='text-align: right;'> <a href='#toc'>Back to Top</a> </p>\")"
   ]
  },
  {
   "cell_type": "code",
   "execution_count": null,
   "metadata": {
    "collapsed": false
   },
   "outputs": [],
   "source": [
    "tryload_flaglog(\"%s/log-flagging_summary_image_HI_%d.txt\" % (outputdir, msindex))"
   ]
  },
  {
   "cell_type": "markdown",
   "metadata": {},
   "source": [
    "# Images <a class=\"anchor\" id=\"images\"></a>"
   ]
  },
  {
   "cell_type": "code",
   "execution_count": null,
   "metadata": {
    "collapsed": true
   },
   "outputs": [],
   "source": [
    "HTML(\"<p style='text-align: right;'> <a href='#toc'>Back to Top</a> </p>\")"
   ]
  },
  {
   "cell_type": "code",
   "execution_count": null,
   "metadata": {
    "collapsed": false
   },
   "outputs": [],
   "source": [
    "velz = zip(glob(\"%s/*-MFS-image.fits\" % outputdir), glob(\"%s/*-MFS-residual.fits\" % outputdir))\n",
    "if len(velz) == 0:\n",
    "    display(HTML(\"<p style='color:#ff0000; font-weight:bold'>Could not load any restored images. \"\n",
    "                    \"This step may not have run, or there was a trainsmash. Check the logs</p>\"))\n",
    "for im, res in velz:\n",
    "    display(HTML(\"<html><body><h3>%s</h3></body></html>\" % (path.basename(im).replace(\"-image.fits\", \"\"))))\n",
    "    display(safe_load(im,\n",
    "                      \"application/fits\", \n",
    "                      pmin=0, pmax=99.99, cmap=\"cubehelix\", interpolation=\"bicubic\", figsize=(10,10)))\n",
    "    display(safe_load(res,\n",
    "                      \"application/fits\", \n",
    "                      pmin=0, pmax=99.99, cmap=\"cubehelix\", interpolation=\"bicubic\", figsize=(10,10)))"
   ]
  },
  {
   "cell_type": "markdown",
   "metadata": {},
   "source": [
    "## Full-restored <a class=\"anchor\" id=\"fullRest\"></a>"
   ]
  },
  {
   "cell_type": "code",
   "execution_count": null,
   "metadata": {
    "collapsed": true
   },
   "outputs": [],
   "source": [
    "HTML(\"<p style='text-align: right;'> <a href='#toc'>Back to Top</a> </p>\")"
   ]
  },
  {
   "cell_type": "code",
   "execution_count": null,
   "metadata": {
    "collapsed": false
   },
   "outputs": [],
   "source": [
    "display(safe_load(\"%s/caracal-pipeline.fullrest.fits\" % outputdir,\n",
    "                  \"application/fits\", \n",
    "                  pmin=0.1, pmax=99.99, cmap=\"cubehelix\", interpolation=\"bicubic\", figsize=(10,10)))"
   ]
  },
  {
   "cell_type": "markdown",
   "metadata": {},
   "source": [
    "# HI Cubes "
   ]
  },
  {
   "cell_type": "code",
   "execution_count": null,
   "metadata": {
    "collapsed": true
   },
   "outputs": [],
   "source": [
    "HTML(\"<p style='text-align: right;'> <a href='#toc'>Back to Top</a> </p>\")"
   ]
  },
  {
   "cell_type": "markdown",
   "metadata": {},
   "source": [
    "# Cross-calibration diagnostics <a class=\"anchor\" id=\"ccal\"></a>\n",
    "\n",
    "## Calibration solutions <a class=\"anchor\" id=\"crossCal\"></a>\n",
    "\n",
    "### Delays <a class=\"anchor\" id=\"delay\"></a>"
   ]
  },
  {
   "cell_type": "code",
   "execution_count": null,
   "metadata": {
    "collapsed": false
   },
   "outputs": [],
   "source": [
    "HTML(\"<p style='text-align: right;'> <a href='#toc'>Back to Top</a> </p>\")"
   ]
  },
  {
   "cell_type": "code",
   "execution_count": null,
   "metadata": {
    "collapsed": false
   },
   "outputs": [],
   "source": [
    "display(safe_load(\"%s/caracal-%s-1gc1-K0.html\" % (outputdir, msname), \"text/html\", 800, 800))"
   ]
  },
  {
   "cell_type": "markdown",
   "metadata": {},
   "source": [
    "### Bandpass <a class=\"anchor\" id=\"bandpass\"></a>"
   ]
  },
  {
   "cell_type": "code",
   "execution_count": null,
   "metadata": {
    "collapsed": false
   },
   "outputs": [],
   "source": [
    "HTML(\"<p style='text-align: right;'> <a href='#toc'>Back to Top</a> </p>\")"
   ]
  },
  {
   "cell_type": "code",
   "execution_count": null,
   "metadata": {
    "collapsed": false
   },
   "outputs": [],
   "source": [
    "display(safe_load(\"%s/caracal-%s-1gc1-B0.html\" % (outputdir, msname), \"text/html\", 800, 800))"
   ]
  },
  {
   "cell_type": "markdown",
   "metadata": {},
   "source": [
    "### Fluxscaled gains <a class=\"anchor\" id=\"fluxGains\"></a>"
   ]
  },
  {
   "cell_type": "code",
   "execution_count": null,
   "metadata": {
    "collapsed": false
   },
   "outputs": [],
   "source": [
    "HTML(\"<p style='text-align: right;'> <a href='#toc'>Back to Top</a> </p>\")"
   ]
  },
  {
   "cell_type": "code",
   "execution_count": null,
   "metadata": {
    "collapsed": false
   },
   "outputs": [],
   "source": [
    "display(safe_load(\"%s/caracal-%s-1gc1-F0.html\" % (outputdir, msname), \"text/html\", 800, 800))"
   ]
  },
  {
   "cell_type": "markdown",
   "metadata": {},
   "source": [
    "## Time spectra <a class=\"anchor\" id=\"timeSpec\"></a>"
   ]
  },
  {
   "cell_type": "code",
   "execution_count": null,
   "metadata": {
    "collapsed": false
   },
   "outputs": [],
   "source": [
    "HTML(\"<p style='text-align: right;'> <a href='#toc'>Back to Top</a> </p>\")"
   ]
  },
  {
   "cell_type": "code",
   "execution_count": null,
   "metadata": {
    "collapsed": false
   },
   "outputs": [],
   "source": [
    "imnames = glob(\"%s/%s.ms-AUTOCORR-FIELD-*-CORR-*.png\" % \n",
    "               (outputdir, msname))\n",
    "imgs = [safe_load(f, \"image/png\") for f in imnames]\n",
    "display(*imgs)"
   ]
  },
  {
   "cell_type": "markdown",
   "metadata": {},
   "source": [
    "## Calibrated phases <a class=\"anchor\" id=\"calPhases\"></a>"
   ]
  },
  {
   "cell_type": "code",
   "execution_count": null,
   "metadata": {
    "collapsed": false
   },
   "outputs": [],
   "source": [
    "HTML(\"<p style='text-align: right;'> <a href='#toc'>Back to Top</a> </p>\")"
   ]
  },
  {
   "cell_type": "code",
   "execution_count": null,
   "metadata": {
    "collapsed": false
   },
   "outputs": [],
   "source": [
    "imnames = glob(\"%s/%s.ms-PHASE-FIELD-*-CORR-*\" % \n",
    "               (outputdir, msname))\n",
    "imgs = [safe_load(f, \"image/png\") for f in imnames]\n",
    "display(*imgs)"
   ]
  },
  {
   "cell_type": "markdown",
   "metadata": {},
   "source": [
    "## Phase balls <a class=\"anchor\" id=\"phaseBalls\"></a>\n",
    "\n",
    "### Bandpass <a class=\"anchor\" id=\"bandpassBalls\"></a>\n",
    " \n",
    "**Colorized by scan**\n"
   ]
  },
  {
   "cell_type": "code",
   "execution_count": null,
   "metadata": {
    "collapsed": false
   },
   "outputs": [],
   "source": [
    "HTML(\"<p style='text-align: right;'> <a href='#toc'>Back to Top</a> </p>\")"
   ]
  },
  {
   "cell_type": "code",
   "execution_count": null,
   "metadata": {
    "collapsed": false
   },
   "outputs": [],
   "source": [
    "imnames = glob(\"%s/caracal-%s-1gc1-bpcal-scan-ap_*.png\" % \n",
    "               (outputdir, msname))\n",
    "imgs = [safe_load(f, \"image/png\") for f in imnames]\n",
    "display(*imgs)"
   ]
  },
  {
   "cell_type": "markdown",
   "metadata": {},
   "source": [
    "**Colorized by baseline**"
   ]
  },
  {
   "cell_type": "code",
   "execution_count": null,
   "metadata": {
    "collapsed": false
   },
   "outputs": [],
   "source": [
    "HTML(\"<p style='text-align: right;'> <a href='#toc'>Back to Top</a> </p>\")"
   ]
  },
  {
   "cell_type": "code",
   "execution_count": null,
   "metadata": {
    "collapsed": false
   },
   "outputs": [],
   "source": [
    "imnames = glob(\"%s/caracal-%s-1gc1-bpcal-baseline-ap_*.png\" % \n",
    "               (outputdir, msname))\n",
    "imgs = [safe_load(f, \"image/png\") for f in imnames]\n",
    "display(*imgs)"
   ]
  },
  {
   "cell_type": "markdown",
   "metadata": {},
   "source": [
    "### Gain calibrator <a class=\"anchor\" id=\"gainBalls\"></a>\n",
    "**Colorized by scan**"
   ]
  },
  {
   "cell_type": "code",
   "execution_count": null,
   "metadata": {
    "collapsed": false
   },
   "outputs": [],
   "source": [
    "HTML(\"<p style='text-align: right;'> <a href='#toc'>Back to Top</a> </p>\")"
   ]
  },
  {
   "cell_type": "code",
   "execution_count": null,
   "metadata": {
    "collapsed": false
   },
   "outputs": [],
   "source": [
    "imnames = glob(\"%s/caracal-%s-1gc1-gcal-scan-ap_*.png\" % \n",
    "               (outputdir, msname))\n",
    "imgs = [safe_load(f, \"image/png\") for f in imnames]\n",
    "display(*imgs)"
   ]
  },
  {
   "cell_type": "markdown",
   "metadata": {},
   "source": [
    "**Colorized by baseline**"
   ]
  },
  {
   "cell_type": "code",
   "execution_count": null,
   "metadata": {
    "collapsed": false
   },
   "outputs": [],
   "source": [
    "HTML(\"<p style='text-align: right;'> <a href='#toc'>Back to Top</a> </p>\")"
   ]
  },
  {
   "cell_type": "code",
   "execution_count": null,
   "metadata": {
    "collapsed": false
   },
   "outputs": [],
   "source": [
    "imnames = glob(\"%s/caracal-%s-1gc1-gcal-baseline-ap_*.png\" % \n",
    "               (outputdir, msname))\n",
    "imgs = [safe_load(f, \"image/png\") for f in imnames]\n",
    "display(*imgs)"
   ]
  },
  {
   "cell_type": "markdown",
   "metadata": {},
   "source": [
    "## Real vs imaginary  <a class=\"anchor\" id=\"ReIm\"></a>\n",
    "\n",
    "### Bandpass <a class=\"anchor\" id=\"bandpassReIm\"></a>\n",
    "\n",
    "**Colorized per scan**\n"
   ]
  },
  {
   "cell_type": "code",
   "execution_count": null,
   "metadata": {
    "collapsed": false
   },
   "outputs": [],
   "source": [
    "HTML(\"<p style='text-align: right;'> <a href='#toc'>Back to Top</a> </p>\")"
   ]
  },
  {
   "cell_type": "code",
   "execution_count": null,
   "metadata": {
    "collapsed": false
   },
   "outputs": [],
   "source": [
    "imnames = glob(\"%s/caracal-%s-1gc1-bpcal-scan-reim_*.png\" % \n",
    "               (outputdir, msname))\n",
    "imgs = [safe_load(f, \"image/png\") for f in imnames]\n",
    "display(*imgs)"
   ]
  },
  {
   "cell_type": "markdown",
   "metadata": {},
   "source": [
    "**Colorized per baseline**\n"
   ]
  },
  {
   "cell_type": "code",
   "execution_count": null,
   "metadata": {
    "collapsed": false
   },
   "outputs": [],
   "source": [
    "HTML(\"<p style='text-align: right;'> <a href='#toc'>Back to Top</a> </p>\")"
   ]
  },
  {
   "cell_type": "code",
   "execution_count": null,
   "metadata": {
    "collapsed": false
   },
   "outputs": [],
   "source": [
    "imnames = glob(\"%s/caracal-%s-1gc1-bpcal-baseline-reim_*.png\" % \n",
    "               (outputdir, msname))\n",
    "imgs = [safe_load(f, \"image/png\") for f in imnames]\n",
    "display(*imgs)"
   ]
  },
  {
   "cell_type": "markdown",
   "metadata": {},
   "source": [
    "### Gain calibrator  <a class=\"anchor\" id=\"gainReIm\"></a>\n",
    "\n",
    "**Colorized by scan**\n"
   ]
  },
  {
   "cell_type": "code",
   "execution_count": null,
   "metadata": {
    "collapsed": false
   },
   "outputs": [],
   "source": [
    "HTML(\"<p style='text-align: right;'> <a href='#toc'>Back to Top</a> </p>\")"
   ]
  },
  {
   "cell_type": "code",
   "execution_count": null,
   "metadata": {
    "collapsed": false
   },
   "outputs": [],
   "source": [
    "imnames = glob(\"%s/caracal-%s-1gc1-gcal-scan-reim_*.png\" % \n",
    "               (outputdir, msname))\n",
    "imgs = [safe_load(f, \"image/png\") for f in imnames]\n",
    "display(*imgs)"
   ]
  },
  {
   "cell_type": "markdown",
   "metadata": {},
   "source": [
    "**Colorized by baseline**"
   ]
  },
  {
   "cell_type": "code",
   "execution_count": null,
   "metadata": {
    "collapsed": false
   },
   "outputs": [],
   "source": [
    "HTML(\"<p style='text-align: right;'> <a href='#toc'>Back to Top</a> </p>\")"
   ]
  },
  {
   "cell_type": "code",
   "execution_count": null,
   "metadata": {
    "collapsed": false
   },
   "outputs": [],
   "source": [
    "imnames = glob(\"%s/caracal-%s-1gc1-gcal-baseline-reim_*.png\" % \n",
    "               (outputdir, msname))\n",
    "imgs = [safe_load(f, \"image/png\") for f in imnames]\n",
    "display(*imgs)"
   ]
  },
  {
   "cell_type": "markdown",
   "metadata": {},
   "source": [
    "## Amp vs. UV$\\lambda$ <a class=\"anchor\" id=\"ampUVdist\"></a>\n",
    "### Bandpass <a class=\"anchor\" id=\"bandpassAmpUVdist\"></a>"
   ]
  },
  {
   "cell_type": "code",
   "execution_count": null,
   "metadata": {
    "collapsed": false
   },
   "outputs": [],
   "source": [
    "HTML(\"<p style='text-align: right;'> <a href='#toc'>Back to Top</a> </p>\")"
   ]
  },
  {
   "cell_type": "code",
   "execution_count": null,
   "metadata": {
    "collapsed": false
   },
   "outputs": [],
   "source": [
    "imnames = glob(\"%s/caracal-%s-1gc1-bpcal-ampuvwave_*.png\" % \n",
    "               (outputdir, msname))\n",
    "imgs = [safe_load(f, \"image/png\") for f in imnames]\n",
    "display(*imgs)"
   ]
  },
  {
   "cell_type": "markdown",
   "metadata": {},
   "source": [
    "### Gain calibrator  <a class=\"anchor\" id=\"gainAmpUVdist\"></a>\n"
   ]
  },
  {
   "cell_type": "code",
   "execution_count": null,
   "metadata": {
    "collapsed": false
   },
   "outputs": [],
   "source": [
    "HTML(\"<p style='text-align: right;'> <a href='#toc'>Back to Top</a> </p>\")"
   ]
  },
  {
   "cell_type": "code",
   "execution_count": null,
   "metadata": {
    "collapsed": false
   },
   "outputs": [],
   "source": [
    "imnames = glob(\"%s/caracal-%s-1gc1-gcal-ampuvwave_*.png\" % \n",
    "               (outputdir, msname))\n",
    "imgs = [safe_load(f, \"image/png\") for f in imnames]\n",
    "display(*imgs)"
   ]
  },
  {
   "cell_type": "markdown",
   "metadata": {},
   "source": [
    "## Phase vs UV$\\lambda$  <a class=\"anchor\" id=\"phaseUVdist\"></a>\n",
    "\n",
    "### Bandpass   <a class=\"anchor\" id=\"bandpassPhaseUVdist\"></a>\n"
   ]
  },
  {
   "cell_type": "code",
   "execution_count": null,
   "metadata": {
    "collapsed": false
   },
   "outputs": [],
   "source": [
    "HTML(\"<p style='text-align: right;'> <a href='#toc'>Back to Top</a> </p>\")"
   ]
  },
  {
   "cell_type": "code",
   "execution_count": null,
   "metadata": {
    "collapsed": false
   },
   "outputs": [],
   "source": [
    "imnames = glob(\"%s/caracal-%s-1gc1-bpcal-phaseuvwave_*.png\" % \n",
    "               (outputdir, msname))\n",
    "imgs = [safe_load(f, \"image/png\") for f in imnames]\n",
    "display(*imgs)"
   ]
  },
  {
   "cell_type": "markdown",
   "metadata": {},
   "source": [
    "### Gain calibrator  <a class=\"anchor\" id=\"gainPhaseUVdist\"></a>\n"
   ]
  },
  {
   "cell_type": "code",
   "execution_count": null,
   "metadata": {
    "collapsed": false
   },
   "outputs": [],
   "source": [
    "HTML(\"<p style='text-align: right;'> <a href='#toc'>Back to Top</a> </p>\")"
   ]
  },
  {
   "cell_type": "code",
   "execution_count": null,
   "metadata": {
    "collapsed": false
   },
   "outputs": [],
   "source": [
    "imnames = glob(\"%s/caracal-%s-1gc1-gcal-phaseuvwave_*.png\" % \n",
    "               (outputdir, msname))\n",
    "imgs = [safe_load(f, \"image/png\") for f in imnames]\n",
    "display(*imgs)"
   ]
  },
  {
   "cell_type": "markdown",
   "metadata": {},
   "source": [
    "## Amplitude vs. Scan   <a class=\"anchor\" id=\"ampScan\"></a>\n",
    "### Bandpass  <a class=\"anchor\" id=\"bandpassAmpScan\"></a>\n"
   ]
  },
  {
   "cell_type": "code",
   "execution_count": null,
   "metadata": {
    "collapsed": false
   },
   "outputs": [],
   "source": [
    "HTML(\"<p style='text-align: right;'> <a href='#toc'>Back to Top</a> </p>\")"
   ]
  },
  {
   "cell_type": "code",
   "execution_count": null,
   "metadata": {
    "collapsed": false
   },
   "outputs": [],
   "source": [
    "imnames = glob(\"%s/caracal-%s-1gc1-bpcal-ampscan_*.png\" % \n",
    "               (outputdir, msname))\n",
    "imgs = [safe_load(f, \"image/png\") for f in imnames]\n",
    "display(*imgs)"
   ]
  },
  {
   "cell_type": "markdown",
   "metadata": {},
   "source": [
    "### Gain calibrator  <a class=\"anchor\" id=\"gainAmpScan\"></a>\n"
   ]
  },
  {
   "cell_type": "code",
   "execution_count": null,
   "metadata": {
    "collapsed": false
   },
   "outputs": [],
   "source": [
    "HTML(\"<p style='text-align: right;'> <a href='#toc'>Back to Top</a> </p>\")"
   ]
  },
  {
   "cell_type": "code",
   "execution_count": null,
   "metadata": {
    "collapsed": false
   },
   "outputs": [],
   "source": [
    "imnames = glob(\"%s/caracal-%s-1gc1-gcal-ampscan_*.png\" % \n",
    "               (outputdir, msname))\n",
    "imgs = [safe_load(f, \"image/png\") for f in imnames]\n",
    "display(*imgs)"
   ]
  },
  {
   "cell_type": "markdown",
   "metadata": {},
   "source": [
    "### Target  <a class=\"anchor\" id=\"targetAmpScan\"></a>"
   ]
  },
  {
   "cell_type": "code",
   "execution_count": null,
   "metadata": {
    "collapsed": false
   },
   "outputs": [],
   "source": [
    "HTML(\"<p style='text-align: right;'> <a href='#toc'>Back to Top</a> </p>\")"
   ]
  },
  {
   "cell_type": "code",
   "execution_count": null,
   "metadata": {
    "collapsed": false
   },
   "outputs": [],
   "source": [
    "imnames = glob(\"%s/caracal-%s-1gc1-target-ampscan_*.png\" % \n",
    "               (outputdir, msname))\n",
    "imgs = [safe_load(f, \"image/png\") for f in imnames]\n",
    "display(*imgs)"
   ]
  },
  {
   "cell_type": "code",
   "execution_count": null,
   "metadata": {
    "collapsed": true
   },
   "outputs": [],
   "source": []
  },
  {
   "cell_type": "code",
   "execution_count": null,
   "metadata": {
    "collapsed": true
   },
   "outputs": [],
   "source": []
  }
 ],
 "metadata": {
  "kernelspec": {
   "display_name": "Python 2",
   "language": "python",
   "name": "python2"
  },
  "language_info": {
   "codemirror_mode": {
    "name": "ipython",
    "version": 2
   },
   "file_extension": ".py",
   "mimetype": "text/x-python",
   "name": "python",
   "nbconvert_exporter": "python",
   "pygments_lexer": "ipython2",
   "version": "2.7.10"
  }
 },
 "nbformat": 4,
 "nbformat_minor": 1
}
