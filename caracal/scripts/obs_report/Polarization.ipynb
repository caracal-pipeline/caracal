{
 "cells": [
  {
   "cell_type": "code",
   "execution_count": null,
   "metadata": {},
   "outputs": [],
   "source": [
    "#DON'T RENAME ME - I'M CHANGED EXTERNALLY\n",
    "MSNAME = \"msdir/caracal-1477074305-crosshand_cal.avg.ms\"\n",
    "UNPOL_SOURCE = \"PKS1934-638\""
   ]
  },
  {
   "cell_type": "code",
   "execution_count": null,
   "metadata": {},
   "outputs": [],
   "source": [
    "from IPython.display import HTML\n",
    "HTML('code_toggle.html')"
   ]
  },
  {
   "cell_type": "code",
   "execution_count": null,
   "metadata": {},
   "outputs": [],
   "source": [
    "import numpy as np\n",
    "from matplotlib import pyplot as plt\n",
    "from pyrap.tables import table as tbl\n",
    "from pyrap.tables import taql as taql\n",
    "from scipy.stats import kurtosis, skew\n",
    "%matplotlib inline"
   ]
  },
  {
   "cell_type": "code",
   "execution_count": null,
   "metadata": {},
   "outputs": [],
   "source": [
    "with tbl(\"%s::FIELD\" % MSNAME) as t:\n",
    "    fnames = list(t.getcol(\"NAME\"))\n",
    "    print fnames\n",
    "with tbl(\"%s::SPECTRAL_WINDOW\" % MSNAME) as t:\n",
    "    chans = t.getcell(\"CHAN_FREQ\", 0).size\n",
    "    chan_freqs = t.getcell(\"CHAN_FREQ\", 0).flatten() / 1e6\n",
    "with tbl(\"%s\" % MSNAME) as t:\n",
    "    nrow = t.nrows()\n",
    "\n",
    "with tbl(\"%s\" % MSNAME, ack=False) as t:\n",
    "    upol_source_id = fnames.index(UNPOL_SOURCE)\n",
    "    with taql('select from $t where FIELD_ID == $upol_source_id') as t1:\n",
    "        a1 = t1.getcol(\"ANTENNA1\")\n",
    "        a2 = t1.getcol(\"ANTENNA2\")\n",
    "        flgs = t1.getcol(\"FLAG\")\n",
    "        data = t1.getcol(\"CORRECTED_DATA\")"
   ]
  },
  {
   "cell_type": "markdown",
   "metadata": {},
   "source": [
    "# Stokes parameters and spread"
   ]
  },
  {
   "cell_type": "code",
   "execution_count": null,
   "metadata": {},
   "outputs": [],
   "source": [
    "fsel = np.sum(flgs, axis=2) > 0\n",
    "I = 0.5 * (data[:,:,0].real + data[:,:,3].real)  \n",
    "Q = 0.5 * (data[:,:,0].real - data[:,:,3].real)   \n",
    "U = 0.5 * (data[:,:,1].real + data[:,:,2].real)  \n",
    "V = 0.5 * (data[:,:,1].imag - data[:,:,2].imag) \n",
    "# flag data\n",
    "I[fsel] = np.nan\n",
    "Q[fsel] = np.nan\n",
    "U[fsel] = np.nan\n",
    "V[fsel] = np.nan"
   ]
  },
  {
   "cell_type": "code",
   "execution_count": null,
   "metadata": {},
   "outputs": [],
   "source": [
    "lin_leakage = np.abs((Q**2 + U**2) / I**2)\n",
    "total_leakage = np.abs((Q**2 + U**2 + V**2) / I**2)"
   ]
  },
  {
   "cell_type": "code",
   "execution_count": null,
   "metadata": {},
   "outputs": [],
   "source": [
    "f, (ax1, ax2, ax3) = plt.subplots(1, 3, sharey=True, figsize=(12,4))\n",
    "ax1.scatter(V[:,:],U[:,:])\n",
    "ax1.set_xlabel(\"Stokes V\")\n",
    "ax1.set_ylabel(\"Stokes U\")\n",
    "ax2.scatter(V[:,:],Q[:,:])\n",
    "ax2.set_xlabel(\"Stokes V\")\n",
    "ax2.set_ylabel(\"Stokes Q\")\n",
    "ax3.scatter(U[:,:],Q[:,:])\n",
    "ax3.set_xlabel(\"Stokes U\")\n",
    "ax3.set_ylabel(\"Stokes Q\")\n",
    "plt.show()"
   ]
  },
  {
   "cell_type": "code",
   "execution_count": null,
   "metadata": {},
   "outputs": [],
   "source": [
    "print \"Spread in V:\", np.nanmean(np.abs(V[:,:])), \"+/-\", np.nanstd(np.abs(V[:,:])), \"kurt:\", kurtosis(np.abs(V.ravel()), nan_policy='omit'), \"skew:\", skew(np.abs(V[np.logical_not(np.isnan(V))]).ravel()), \"Jy\"\n",
    "print \"Spread in U:\", np.nanmean(np.abs(U[:,:])), \"+/-\", np.nanstd(np.abs(U[:,:])), \"kurt:\", kurtosis(np.abs(U.ravel()), nan_policy='omit'), \"skew:\", skew(np.abs(U[np.logical_not(np.isnan(U))]).ravel()), \"Jy\"\n",
    "print \"Spread in Q:\", np.nanmean(np.abs(Q[:,:])), \"+/-\", np.nanstd(np.abs(Q[:,:])), \"kurt:\", kurtosis(np.abs(Q.ravel()), nan_policy='omit'), \"skew:\", skew(np.abs(Q[np.logical_not(np.isnan(Q))]).ravel()), \"Jy\""
   ]
  },
  {
   "cell_type": "code",
   "execution_count": null,
   "metadata": {},
   "outputs": [],
   "source": [
    "lin_leakage[lin_leakage == 0] = np.nan\n",
    "total_leakage[lin_leakage == 0] = np.nan\n",
    "print \"Mean linear leakage:\", np.nanmean(lin_leakage), \\\n",
    "      \"+/-\", np.nanstd(lin_leakage), \\\n",
    "      \"(\", 10*np.log10(np.nanmean(lin_leakage) + np.nanstd(lin_leakage)), \"~\", \\\n",
    "      10*np.log10(np.nanmean(lin_leakage)), \"dB)\"\n",
    "print \"Mean total leakage:\", np.nanmean(total_leakage), \\\n",
    "      \"+/-\", np.nanstd(total_leakage), \\\n",
    "      \"(\", 10*np.log10(np.nanmean(total_leakage) + np.nanstd(total_leakage)), \"~\", \\\n",
    "      10*np.log10(np.nanmean(total_leakage)), \"dB)\""
   ]
  },
  {
   "cell_type": "code",
   "execution_count": null,
   "metadata": {},
   "outputs": [],
   "source": [
    "plt.figure(figsize=(12,6))\n",
    "f = chan_freqs\n",
    "plt.errorbar(f,\n",
    "             np.nanmean(Q, axis=0),\n",
    "             yerr=np.nanstd(Q, axis=0), fmt='o', ecolor='r', capsize=4)\n",
    "plt.plot(f, np.nanmedian(Q, axis=0), 'b--')\n",
    "plt.xlabel(\"Frequency (MHz)\")\n",
    "plt.ylabel(\"Stokes Q\")\n",
    "\n",
    "plt.show()\n",
    "plt.figure(figsize=(12,6))\n",
    "f = chan_freqs\n",
    "plt.errorbar(f,\n",
    "             np.nanmean(U, axis=0),\n",
    "             yerr=np.nanstd(U, axis=0), fmt='o', ecolor='r', capsize=4)\n",
    "plt.plot(f, np.nanmedian(U, axis=0), 'b--')\n",
    "plt.xlabel(\"Frequency (MHz)\")\n",
    "plt.ylabel(\"Stokes U\")\n",
    "\n",
    "plt.show()\n",
    "plt.figure(figsize=(12,6))\n",
    "f = chan_freqs\n",
    "plt.errorbar(f,\n",
    "             np.nanmean(V, axis=0),\n",
    "             yerr=np.nanstd(V, axis=0), fmt='o', ecolor='r', capsize=4)\n",
    "plt.plot(f, np.nanmedian(V, axis=0), 'b--')\n",
    "plt.xlabel(\"Frequency (MHz)\")\n",
    "plt.ylabel(\"Stokes V (calibration error)\")\n",
    "\n",
    "plt.show()"
   ]
  },
  {
   "cell_type": "markdown",
   "metadata": {},
   "source": [
    "# Residual leakage"
   ]
  },
  {
   "cell_type": "code",
   "execution_count": null,
   "metadata": {},
   "outputs": [],
   "source": [
    "XY = data[:,:,1]\n",
    "YX = data[:,:,2]\n",
    "XX = data[:,:,0]\n",
    "rel_errXY = np.abs(XY) / np.abs(XX)\n",
    "rel_errYX = np.abs(YX) / np.abs(XX)\n",
    "plt.figure(figsize=(12,6))\n",
    "f = chan_freqs\n",
    "plt.fill_between(f,\n",
    "         10*np.log10(np.nanmean(rel_errXY, axis=0)),      \n",
    "         10*np.log10(np.nanmean(rel_errXY, axis=0) + np.nanstd(rel_errXY, axis=0)),\n",
    "         label=\"|XY| / |XX|\"\n",
    "        )\n",
    "plt.fill_between(f,\n",
    "         10*np.log10(np.nanmean(rel_errYX, axis=0)),      \n",
    "         10*np.log10(np.nanmean(rel_errYX, axis=0) + np.nanstd(rel_errYX, axis=0)),      \n",
    "         label=\"|YX| / |XX|\"\n",
    "        )\n",
    "plt.xlabel(\"Frequency (MHz)\")\n",
    "plt.ylabel(\"Residual leakage [crosshand power / parallelhand power] (dB)\")\n",
    "plt.grid(True)\n",
    "plt.legend()\n",
    "plt.show()"
   ]
  },
  {
   "cell_type": "code",
   "execution_count": null,
   "metadata": {},
   "outputs": [],
   "source": [
    "XY = data[:,:,1]\n",
    "YX = data[:,:,2]\n",
    "XX = data[:,:,0]\n",
    "rel_errXY = np.abs(np.imag(XY)) / np.abs(XX)\n",
    "rel_errYX = np.abs(np.imag(YX)) / np.abs(XX)\n",
    "plt.figure(figsize=(12,6))\n",
    "f = chan_freqs\n",
    "plt.fill_between(f,\n",
    "         10*np.log10(np.nanmean(rel_errXY, axis=0)),      \n",
    "         10*np.log10(np.nanmean(rel_errXY, axis=0) + np.nanstd(rel_errXY, axis=0)),\n",
    "         label=\"|$\\Im$XY| / |XX|\"\n",
    "        )\n",
    "plt.fill_between(f,\n",
    "         10*np.log10(np.nanmean(rel_errYX, axis=0)),      \n",
    "         10*np.log10(np.nanmean(rel_errYX, axis=0) + np.nanstd(rel_errYX, axis=0)),      \n",
    "         label=\"|$\\Im$YX| / |XX|\"\n",
    "        )\n",
    "plt.xlabel(\"Frequency (MHz)\")\n",
    "plt.ylabel(\"Residual leakage [crosshand imaginary power / parallelhand power] (dB)\")\n",
    "plt.grid(True)\n",
    "plt.legend()\n",
    "plt.show()"
   ]
  },
  {
   "cell_type": "code",
   "execution_count": null,
   "metadata": {},
   "outputs": [],
   "source": [
    "def baseline_index(a1, a2, no_antennae):\n",
    "  \"\"\"\n",
    "   Computes unique index of a baseline given antenna 1 and antenna 2\n",
    "   (zero indexed) as input. The arrays may or may not contain\n",
    "   auto-correlations.\n",
    "   There is a quadratic series expression relating a1 and a2\n",
    "   to a unique baseline index(can be found by the double difference\n",
    "   method)\n",
    "   Let slow_varying_index be S = min(a1, a2). The goal is to find\n",
    "   the number of fast varying terms. As the slow\n",
    "   varying terms increase these get fewer and fewer, because\n",
    "   we only consider unique baselines and not the conjugate\n",
    "   baselines)\n",
    "   B = (-S ^ 2 + 2 * S *  # Ant + S) / 2 + diff between the\n",
    "   slowest and fastest varying antenna\n",
    "  :param a1: array of ANTENNA_1 ids\n",
    "  :param a2: array of ANTENNA_2 ids\n",
    "  :param no_antennae: number of antennae in the array\n",
    "  :return: array of baseline ids\n",
    "  \"\"\"\n",
    "  if a1.shape != a2.shape:\n",
    "    raise ValueError(\"a1 and a2 must have the same shape!\")\n",
    "\n",
    "  slow_index = np.min(np.array([a1, a2]), axis=0)\n",
    "\n",
    "  return (slow_index * (-slow_index + (2 * no_antennae + 1))) // 2 + \\\n",
    "         np.abs(a1 - a2)\n",
    "\n",
    "no_ant = len(set(np.unique(a1)).union(set(np.unique(a2))))\n",
    "nbl = no_ant * (no_ant - 1) // 2 + no_ant\n",
    "bli = baseline_index(a1, a2, no_ant)\n",
    "bl_q3 = np.zeros(nbl)\n",
    "bl_q2 = np.zeros(nbl)\n",
    "bl_q1 = np.zeros(nbl)\n",
    "\n",
    "XY = data[:,:,1]\n",
    "YX = data[:,:,2]\n",
    "XX = data[:,:,0]\n",
    "\n",
    "for b in xrange(nbl):\n",
    "    XYsel = XY[bli==b]\n",
    "    XXsel = XX[bli==b]\n",
    "    rel_err = np.abs(np.abs(XYsel) / np.abs(XXsel))\n",
    "    bl_q3[b] = np.nanpercentile(rel_err, 75)\n",
    "    bl_q2[b] = np.nanpercentile(rel_err, 50)\n",
    "    bl_q1[b] = np.nanpercentile(rel_err, 25)\n",
    "    \n",
    "plt.figure(figsize=(12,6))\n",
    "f = chan_freqs\n",
    "plt.fill_between(xrange(nbl),\n",
    "         10*np.log10(bl_q1),      \n",
    "         10*np.log10(bl_q3),      \n",
    "        )\n",
    "plt.plot(xrange(nbl),\n",
    "         10*np.log10(bl_q2),\n",
    "         \"w--\")\n",
    "plt.xlabel(\"Baseline index\")\n",
    "plt.ylabel(\"Residual leakage [crosshand power / parallelhand power] (dB)\")\n",
    "plt.grid(True)\n",
    "plt.show()"
   ]
  },
  {
   "cell_type": "markdown",
   "metadata": {},
   "source": [
    "# Quadrature leakage"
   ]
  },
  {
   "cell_type": "code",
   "execution_count": null,
   "metadata": {},
   "outputs": [],
   "source": [
    "plt.figure(figsize=(12,6))\n",
    "fleak_mean = np.nanmean(lin_leakage, axis=0)\n",
    "fleak_std = np.nanstd(lin_leakage, axis=0)\n",
    "f = chan_freqs\n",
    "plt.fill_between(f,\n",
    "                 10*np.log10(np.abs(fleak_mean)),\n",
    "                 10*np.log10(np.abs(fleak_mean + fleak_std)))\n",
    "plt.xlabel(\"Frequency (MHz)\")\n",
    "plt.ylabel(\"$D_{lin}$ (dB)\")\n",
    "plt.grid(True)\n",
    "plt.show()"
   ]
  },
  {
   "cell_type": "code",
   "execution_count": null,
   "metadata": {},
   "outputs": [],
   "source": [
    "plt.figure(figsize=(12,6))\n",
    "fleak_mean_tot = np.nanmean(total_leakage, axis=0)\n",
    "fleak_std_tot = np.nanstd(total_leakage, axis=0)\n",
    "f = chan_freqs\n",
    "plt.fill_between(f,\n",
    "                 10*np.log10(np.abs(fleak_mean_tot)),\n",
    "                 10*np.log10(np.abs(fleak_mean_tot + fleak_std_tot)))\n",
    "plt.xlabel(\"Frequency (MHz)\")\n",
    "plt.ylabel(\"$D_{tot}$ (dB)\")\n",
    "plt.grid(True)\n",
    "plt.show()"
   ]
  },
  {
   "cell_type": "code",
   "execution_count": null,
   "metadata": {},
   "outputs": [],
   "source": []
  }
 ],
 "metadata": {
  "kernelspec": {
   "display_name": "Python 2",
   "language": "python",
   "name": "python2"
  },
  "language_info": {
   "codemirror_mode": {
    "name": "ipython",
    "version": 2
   },
   "file_extension": ".py",
   "mimetype": "text/x-python",
   "name": "python",
   "nbconvert_exporter": "python",
   "pygments_lexer": "ipython2",
   "version": "2.7.12"
  }
 },
 "nbformat": 4,
 "nbformat_minor": 2
}
