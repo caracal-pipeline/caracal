{
 "cells": [
  {
   "cell_type": "code",
   "execution_count": null,
   "metadata": {},
   "outputs": [],
   "source": [
    "#These parameters are updated externally... Do not move them\n",
    "msname = None\n",
    "outputdir = \"output\"\n",
    "msindex = 0"
   ]
  },
  {
   "cell_type": "markdown",
   "metadata": {},
   "source": [
    "# SelfCal diagnostics\n",
    "\n",
    "## Table of Contents: <a name=\"toc\"></a>\n",
    "\n",
    "\n",
    "1. [Calibration solutions](#cubiCal)\n",
    "    1. [Fluxscale gains](#fluxGains)\n",
    "2. [Image diagnostics](#selfCalLoop)\n",
    "    1. [Statistics](#stats)\n",
    "    2. [Photometry](#phot)\n",
    "    3. [Astrometry](#astr)\n",
    "    4. [Residuals](#Res)\n",
    "        1. [Source](#source)\n",
    "        2. [Random](#random)"
   ]
  },
  {
   "cell_type": "code",
   "execution_count": null,
   "metadata": {},
   "outputs": [],
   "source": [
    "from IPython.display import Image, display, HTML, IFrame\n",
    "import base64\n",
    "import pandas\n",
    "import json\n",
    "import glob\n",
    "display(HTML(\"<style>.container { width:100% !important; }</style>\"))\n",
    "HTML('code_toggle.html')"
   ]
  },
  {
   "cell_type": "code",
   "execution_count": null,
   "metadata": {},
   "outputs": [],
   "source": [
    "def safe_load(filename, mimetype, *args, **kwargs):\n",
    "    try:\n",
    "        if mimetype == \"image/png\":\n",
    "            return Image(filename)\n",
    "        elif mimetype == \"text/plain\":\n",
    "            with open(filename, 'r') as f:\n",
    "                txt = f.read()\n",
    "            packet = base64.encodestring(txt)\n",
    "            return IFrame(\"data:%s;base64,%s\" % (mimetype, packet), *args, **kwargs)\n",
    "        elif mimetype == \"application/fits\":\n",
    "            f = aplpy.FITSFigure(filename, \n",
    "                                 figsize=kwargs.pop(\"figsize\", (15,15)))\n",
    "            f.show_colorscale(*args, **kwargs)\n",
    "            f.add_colorbar()\n",
    "            f.add_beam()\n",
    "            f.beam.set_color('magenta')\n",
    "            f.beam.set_hatch('+')\n",
    "            return f\n",
    "        elif mimetype == \"text/html\":\n",
    "            with open(filename, 'r') as f:\n",
    "                txt = f.read()\n",
    "            packet = base64.encodestring(txt)\n",
    "            return IFrame(\"data:%s;base64,%s\" % (mimetype, packet), *args, **kwargs)\n",
    "        else:\n",
    "            raise ValueError(\"unsupported type\")\n",
    "    except:\n",
    "        return HTML(\"<p style='color:#ff0000; font-weight:bold'>Could not load specified files. \"\n",
    "                    \"This step may not have run, or there was a trainsmash. Check the logs</p>\")"
   ]
  },
  {
   "cell_type": "markdown",
   "metadata": {},
   "source": [
    "# Calibration solution <a class=\"anchor\" id=\"selfCalLoop\"></a>"
   ]
  },
  {
   "cell_type": "code",
   "execution_count": null,
   "metadata": {},
   "outputs": [],
   "source": [
    "HTML(\"<p style='text-align: right;'> <a href='#toc'>Back to Top</a> </p>\")"
   ]
  },
  {
   "cell_type": "code",
   "execution_count": null,
   "metadata": {
    "scrolled": false
   },
   "outputs": [],
   "source": [
    "display(safe_load(\"%s/%s\" % (outputdir, glob.glob('{}/*self-cal_G_gain_plots.html'.format(outputdir))), \"text/html\", 800, 800))"
   ]
  },
  {
   "cell_type": "markdown",
   "metadata": {},
   "source": [
    "# Image diagnostics <a class=\"anchor\" id=\"selfCalLoop\"></a>"
   ]
  },
  {
   "cell_type": "code",
   "execution_count": null,
   "metadata": {},
   "outputs": [],
   "source": [
    "HTML(\"<p style='text-align: right;'> <a href='#toc'>Back to Top</a> </p>\")"
   ]
  },
  {
   "cell_type": "markdown",
   "metadata": {},
   "source": [
    "## Statistics <a class=\"anchor\" id=\"stats\"></a>"
   ]
  },
  {
   "cell_type": "code",
   "execution_count": null,
   "metadata": {},
   "outputs": [],
   "source": [
    "HTML(\"<p style='text-align: right;'> <a href='#toc'>Back to Top</a> </p>\")"
   ]
  },
  {
   "cell_type": "code",
   "execution_count": null,
   "metadata": {},
   "outputs": [],
   "source": [
    "def get_aimfast_stats():\n",
    "    if glob.glob('{}/fidelity_results.json'.format(outputdir)):\n",
    "        with open(outputdir + '/fidelity_results.json') as f:  \n",
    "            data = json.load(f)\n",
    "        res_stats = dict()\n",
    "        dr_stats = dict()\n",
    "        for par, val in data.items():\n",
    "            if '.fits' not in par and 'models' not in val and type(val) is not list:\n",
    "                for p, v in val.items():\n",
    "                    if type(v) is dict:\n",
    "                        dr_stats[p] = v\n",
    "                        val.pop(p)\n",
    "                res_stats[par] = val\n",
    "        return (pandas.DataFrame(data=res_stats), pandas.DataFrame(data=dr_stats))\n",
    "    else:\n",
    "        return (HTML(\"<p style='color:#ff0000; font-weight:bold'>Could not load specified files. \"\n",
    "                    \"This step may not have run, or there was a trainsmash. Check the logs</p>\"),\n",
    "               HTML(\"<p style='color:#ff0000; font-weight:bold'>Could not load specified files. \"\n",
    "                    \"This step may not have run, or there was a trainsmash. Check the logs</p>\"))\n",
    "stats_results = get_aimfast_stats()"
   ]
  },
  {
   "cell_type": "code",
   "execution_count": null,
   "metadata": {},
   "outputs": [],
   "source": [
    "stats_results[0]"
   ]
  },
  {
   "cell_type": "code",
   "execution_count": null,
   "metadata": {},
   "outputs": [],
   "source": [
    "stats_results[-1]"
   ]
  },
  {
   "cell_type": "markdown",
   "metadata": {},
   "source": [
    "## Photometry <a class=\"anchor\" id=\"phot\"></a>"
   ]
  },
  {
   "cell_type": "code",
   "execution_count": null,
   "metadata": {},
   "outputs": [],
   "source": [
    "HTML(\"<p style='text-align: right;'> <a href='#toc'>Back to Top</a> </p>\")"
   ]
  },
  {
   "cell_type": "code",
   "execution_count": null,
   "metadata": {},
   "outputs": [],
   "source": [
    "display(safe_load(\"%s/InputOutputFluxDensity.html\" % (outputdir), \"text/html\", 800, 800))"
   ]
  },
  {
   "cell_type": "markdown",
   "metadata": {},
   "source": [
    "## Astrometry <a class=\"anchor\" id=\"astr\"></a>"
   ]
  },
  {
   "cell_type": "code",
   "execution_count": null,
   "metadata": {},
   "outputs": [],
   "source": [
    "HTML(\"<p style='text-align: right;'> <a href='#toc'>Back to Top</a> </p>\")"
   ]
  },
  {
   "cell_type": "code",
   "execution_count": null,
   "metadata": {
    "scrolled": false
   },
   "outputs": [],
   "source": [
    "display(safe_load(\"%s/InputOutputPosition.html\" % (outputdir), \"text/html\", 800, 800))"
   ]
  },
  {
   "cell_type": "markdown",
   "metadata": {},
   "source": [
    "## Residuals <a class=\"anchor\" id=\"astr\"></a>"
   ]
  },
  {
   "cell_type": "markdown",
   "metadata": {},
   "source": [
    "### Source <a class=\"anchor\" id=\"source\"></a>"
   ]
  },
  {
   "cell_type": "code",
   "execution_count": null,
   "metadata": {},
   "outputs": [],
   "source": [
    "HTML(\"<p style='text-align: right;'> <a href='#toc'>Back to Top</a> </p>\")"
   ]
  },
  {
   "cell_type": "code",
   "execution_count": null,
   "metadata": {},
   "outputs": [],
   "source": [
    "display(safe_load(\"%s/SourceResidualNoiseRatio.html\" % (outputdir), \"text/html\", 800, 800))"
   ]
  },
  {
   "cell_type": "markdown",
   "metadata": {},
   "source": [
    "### Random <a class=\"anchor\" id=\"random\"></a>"
   ]
  },
  {
   "cell_type": "code",
   "execution_count": null,
   "metadata": {},
   "outputs": [],
   "source": [
    "HTML(\"<p style='text-align: right;'> <a href='#toc'>Back to Top</a> </p>\")"
   ]
  },
  {
   "cell_type": "code",
   "execution_count": null,
   "metadata": {},
   "outputs": [],
   "source": [
    "display(safe_load(\"%s/RandomResidualNoiseRatio.html\" % (outputdir), \"text/html\", 800, 800))"
   ]
  },
  {
   "cell_type": "code",
   "execution_count": null,
   "metadata": {},
   "outputs": [],
   "source": []
  }
 ],
 "metadata": {
  "kernelspec": {
   "display_name": "Python 2",
   "language": "python",
   "name": "python2"
  },
  "language_info": {
   "codemirror_mode": {
    "name": "ipython",
    "version": 2
   },
   "file_extension": ".py",
   "mimetype": "text/x-python",
   "name": "python",
   "nbconvert_exporter": "python",
   "pygments_lexer": "ipython2",
   "version": "2.7.6"
  }
 },
 "nbformat": 4,
 "nbformat_minor": 2
}
