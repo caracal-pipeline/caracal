{
 "cells": [
  {
   "cell_type": "markdown",
   "metadata": {},
   "source": [
    "# Notebook master list"
   ]
  },
  {
   "cell_type": "code",
   "execution_count": null,
   "metadata": {
    "scrolled": false
   },
   "outputs": [],
   "source": [
    "from radiopadre import ls\n",
    "a = ls(\"*/*ipynb -rt\", section=\"*Master list\")\n",
    "a.title = \"Output folder notebooks, most recently updated to least\"\n",
    "a"
   ]
  },
  {
   "cell_type": "code",
   "execution_count": null,
   "metadata": {},
   "outputs": [],
   "source": []
  }
 ],
 "metadata": {
  "kernelspec": {
   "display_name": "radiopadre",
   "language": "python",
   "name": "radiopadre"
  },
  "language_info": {
   "codemirror_mode": {
    "name": "ipython",
    "version": 2
   },
   "file_extension": ".py",
   "mimetype": "text/x-python",
   "name": "python",
   "nbconvert_exporter": "python",
   "pygments_lexer": "ipython2",
   "version": "2.7.15+"
  },
  "radiopadre_notebook_scrub": true
 },
 "nbformat": 4,
 "nbformat_minor": 2
}
