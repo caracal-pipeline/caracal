{
 "cells": [
  {
   "cell_type": "code",
   "execution_count": null,
   "metadata": {},
   "outputs": [],
   "source": [
    "#These parameters are updated externally... Do not move them\n",
    "msname = None\n",
    "outputdir = \"output\"\n",
    "msindex = 0"
   ]
  },
  {
   "cell_type": "code",
   "execution_count": null,
   "metadata": {},
   "outputs": [],
   "source": [
    "from IPython.display import HTML\n",
    "HTML(\"\"\"\n",
    "        <script>\n",
    "            code_show=true; \n",
    "            function code_toggle() {\n",
    "                if (code_show){\n",
    "                    $('div.input').hide();\n",
    "                } else {\n",
    "                    $('div.input').show();\n",
    "                }\n",
    "                code_show = !code_show\n",
    "            } \n",
    "            $( document ).ready(code_toggle);\n",
    "        </script>\n",
    "\n",
    "        The raw code for this notebook is by default hidden for easier reading. To toggle on/off the raw code, click <a href=\"javascript:code_toggle()\">here</a>.\n",
    "     \"\"\")"
   ]
  },
  {
   "cell_type": "code",
   "execution_count": null,
   "metadata": {},
   "outputs": [],
   "source": [
    "import numpy as np\n",
    "from matplotlib import pyplot as plt\n",
    "from glob import glob\n",
    "import aplpy\n",
    "from os import path\n",
    "from IPython.display import Image, display, HTML, IFrame\n",
    "import base64\n",
    "\n",
    "%matplotlib inline"
   ]
  },
  {
   "cell_type": "code",
   "execution_count": null,
   "metadata": {},
   "outputs": [],
   "source": [
    "def safe_load(filename, mimetype, *args, **kwargs):\n",
    "    try:\n",
    "        if mimetype == \"image/png\":\n",
    "            return Image(filename)\n",
    "        elif mimetype == \"text/plain\":\n",
    "            with open(filename, 'r') as f:\n",
    "                txt = f.read()\n",
    "            packet = base64.encodestring(txt)\n",
    "            return IFrame(\"data:%s;base64,%s\" % (mimetype, packet), *args, **kwargs)\n",
    "        elif mimetype == \"application/fits\":\n",
    "            f = aplpy.FITSFigure(filename, \n",
    "                                 figsize=kwargs.pop(\"figsize\", (15,15)))\n",
    "            f.show_colorscale(*args, **kwargs)\n",
    "            f.add_colorbar()\n",
    "            f.add_beam()\n",
    "            f.beam.set_color('magenta')\n",
    "            f.beam.set_hatch('+')\n",
    "            return f\n",
    "        elif mimetype == \"text/html\":\n",
    "            with open(filename, 'r') as f:\n",
    "                txt = f.read()\n",
    "            packet = base64.encodestring(txt)\n",
    "            return IFrame(\"data:%s;base64,%s\" % (mimetype, packet), *args, **kwargs)\n",
    "        else:\n",
    "            raise ValueError(\"unsupported type\")\n",
    "    except:\n",
    "        return HTML(\"<p style='color:#ff0000; font-weight:bold'>Could not load specified files. \"\n",
    "                    \"This step may not have run, or there was a trainsmash. Check the logs</p>\")"
   ]
  },
  {
   "cell_type": "markdown",
   "metadata": {},
   "source": [
    "# Observation info"
   ]
  },
  {
   "cell_type": "code",
   "execution_count": null,
   "metadata": {},
   "outputs": [],
   "source": [
    "display(safe_load(\"%s/meerkathi-%s-obsinfo.txt\" % (outputdir, msname), \n",
    "                  \"text/plain\", 800, 300))"
   ]
  },
  {
   "cell_type": "markdown",
   "metadata": {},
   "source": [
    "# Flagging statistics"
   ]
  },
  {
   "cell_type": "markdown",
   "metadata": {},
   "source": [
    "### After precalibration flagging"
   ]
  },
  {
   "cell_type": "code",
   "execution_count": null,
   "metadata": {},
   "outputs": [],
   "source": [
    "tryload_flaglog = lambda fname: display(safe_load(fname, \"text/plain\", 800, 300))"
   ]
  },
  {
   "cell_type": "code",
   "execution_count": null,
   "metadata": {},
   "outputs": [],
   "source": [
    "tryload_flaglog(\"%s/log-flagging_summary_flagging_%d_.txt\" % (outputdir, msindex))"
   ]
  },
  {
   "cell_type": "markdown",
   "metadata": {},
   "source": [
    "### After transfer calibration"
   ]
  },
  {
   "cell_type": "code",
   "execution_count": null,
   "metadata": {},
   "outputs": [],
   "source": [
    "tryload_flaglog(\"%s/log-flagging_summary_crosscal_%d.txt\" % (outputdir, msindex))"
   ]
  },
  {
   "cell_type": "markdown",
   "metadata": {},
   "source": [
    "### After post transfer calibration flagging"
   ]
  },
  {
   "cell_type": "code",
   "execution_count": null,
   "metadata": {},
   "outputs": [],
   "source": [
    "tryload_flaglog(\"%s/log-flagging_summary_flagging_%d_corr.txt\" % (outputdir, msindex))"
   ]
  },
  {
   "cell_type": "markdown",
   "metadata": {},
   "source": [
    "### After self calibration"
   ]
  },
  {
   "cell_type": "code",
   "execution_count": null,
   "metadata": {},
   "outputs": [],
   "source": [
    "tryload_flaglog(\"%s/log-flagging_summary_image_selfcal_%d.txt\" % (outputdir, msindex))"
   ]
  },
  {
   "cell_type": "markdown",
   "metadata": {},
   "source": [
    "### After HI imaging"
   ]
  },
  {
   "cell_type": "code",
   "execution_count": null,
   "metadata": {},
   "outputs": [],
   "source": [
    "tryload_flaglog(\"%s/log-flagging_summary_image_HI_%d.txt\" % (outputdir, msindex))"
   ]
  },
  {
   "cell_type": "markdown",
   "metadata": {},
   "source": [
    "# Images"
   ]
  },
  {
   "cell_type": "code",
   "execution_count": null,
   "metadata": {},
   "outputs": [],
   "source": [
    "velz = zip(glob(\"%s/*-MFS-image.fits\" % outputdir), glob(\"%s/*-MFS-residual.fits\" % outputdir))\n",
    "if len(velz) == 0:\n",
    "    display(HTML(\"<p style='color:#ff0000; font-weight:bold'>Could not load any restored images. \"\n",
    "                    \"This step may not have run, or there was a trainsmash. Check the logs</p>\"))\n",
    "for im, res in velz:\n",
    "    display(HTML(\"<html><body><h3>%s</h3></body></html>\" % (path.basename(im).replace(\"-image.fits\", \"\"))))\n",
    "    display(safe_load(im,\n",
    "                      \"application/fits\", \n",
    "                      pmin=0, pmax=99.99, cmap=\"cubehelix\", interpolation=\"bicubic\", figsize=(10,10)))\n",
    "    display(safe_load(res,\n",
    "                      \"application/fits\", \n",
    "                      pmin=0, pmax=99.99, cmap=\"cubehelix\", interpolation=\"bicubic\", figsize=(10,10)))"
   ]
  },
  {
   "cell_type": "markdown",
   "metadata": {},
   "source": [
    "## Full-restored"
   ]
  },
  {
   "cell_type": "code",
   "execution_count": null,
   "metadata": {},
   "outputs": [],
   "source": [
    "display(safe_load(\"%s/meerkathi-pipeline.fullrest.fits\" % outputdir,\n",
    "                  \"application/fits\", \n",
    "                  pmin=0.1, pmax=99.99, cmap=\"cubehelix\", interpolation=\"bicubic\", figsize=(10,10)))"
   ]
  },
  {
   "cell_type": "markdown",
   "metadata": {},
   "source": [
    "# Calibration solutions"
   ]
  },
  {
   "cell_type": "markdown",
   "metadata": {},
   "source": [
    "# Delay"
   ]
  },
  {
   "cell_type": "code",
   "execution_count": null,
   "metadata": {},
   "outputs": [],
   "source": [
    "display(safe_load(\"%s/meerkathi-%s-1gc1-K0.html\" % (outputdir, msname), \"text/html\", 800, 800))"
   ]
  },
  {
   "cell_type": "markdown",
   "metadata": {},
   "source": [
    "## Bandpass"
   ]
  },
  {
   "cell_type": "code",
   "execution_count": null,
   "metadata": {},
   "outputs": [],
   "source": [
    "display(safe_load(\"%s/meerkathi-%s-1gc1-B0.html\" % (outputdir, msname), \"text/html\", 800, 800))"
   ]
  },
  {
   "cell_type": "markdown",
   "metadata": {},
   "source": [
    "## Fluxscaled gains"
   ]
  },
  {
   "cell_type": "code",
   "execution_count": null,
   "metadata": {},
   "outputs": [],
   "source": [
    "display(safe_load(\"%s/meerkathi-%s-1gc1-F0.html\" % (outputdir, msname), \"text/html\", 800, 800))"
   ]
  },
  {
   "cell_type": "markdown",
   "metadata": {},
   "source": [
    "# Time spectra"
   ]
  },
  {
   "cell_type": "code",
   "execution_count": null,
   "metadata": {},
   "outputs": [],
   "source": [
    "imnames = glob(\"%s/%s.ms-AUTOCORR-FIELD-*-CORR-*.png\" % \n",
    "               (outputdir, msname))\n",
    "imgs = [safe_load(f, \"image/png\") for f in imnames]\n",
    "display(*imgs)"
   ]
  },
  {
   "cell_type": "markdown",
   "metadata": {},
   "source": [
    "# Calibrated phases"
   ]
  },
  {
   "cell_type": "code",
   "execution_count": null,
   "metadata": {},
   "outputs": [],
   "source": [
    "imnames = glob(\"%s/%s.ms-PHASE-FIELD-*-CORR-*\" % \n",
    "               (outputdir, msname))\n",
    "imgs = [safe_load(f, \"image/png\") for f in imnames]\n",
    "display(*imgs)"
   ]
  },
  {
   "cell_type": "markdown",
   "metadata": {},
   "source": [
    "# Phase balls"
   ]
  },
  {
   "cell_type": "markdown",
   "metadata": {},
   "source": [
    "## Bandpass"
   ]
  },
  {
   "cell_type": "markdown",
   "metadata": {},
   "source": [
    "### Colorized by scan"
   ]
  },
  {
   "cell_type": "code",
   "execution_count": null,
   "metadata": {},
   "outputs": [],
   "source": [
    "imnames = glob(\"%s/meerkathi-%s-1gc1-bpcal-scan-ap_*.png\" % \n",
    "               (outputdir, msname))\n",
    "imgs = [safe_load(f, \"image/png\") for f in imnames]\n",
    "display(*imgs)"
   ]
  },
  {
   "cell_type": "markdown",
   "metadata": {},
   "source": [
    "### Colorized by baseline"
   ]
  },
  {
   "cell_type": "code",
   "execution_count": null,
   "metadata": {},
   "outputs": [],
   "source": [
    "imnames = glob(\"%s/meerkathi-%s-1gc1-bpcal-baseline-ap_*.png\" % \n",
    "               (outputdir, msname))\n",
    "imgs = [safe_load(f, \"image/png\") for f in imnames]\n",
    "display(*imgs)"
   ]
  },
  {
   "cell_type": "markdown",
   "metadata": {},
   "source": [
    "## Gain calibrator"
   ]
  },
  {
   "cell_type": "markdown",
   "metadata": {},
   "source": [
    "### Colorized by scan"
   ]
  },
  {
   "cell_type": "code",
   "execution_count": null,
   "metadata": {},
   "outputs": [],
   "source": [
    "imnames = glob(\"%s/meerkathi-%s-1gc1-gcal-scan-ap_*.png\" % \n",
    "               (outputdir, msname))\n",
    "imgs = [safe_load(f, \"image/png\") for f in imnames]\n",
    "display(*imgs)"
   ]
  },
  {
   "cell_type": "markdown",
   "metadata": {},
   "source": [
    "### Colorized by baseline"
   ]
  },
  {
   "cell_type": "code",
   "execution_count": null,
   "metadata": {},
   "outputs": [],
   "source": [
    "imnames = glob(\"%s/meerkathi-%s-1gc1-gcal-baseline-ap_*.png\" % \n",
    "               (outputdir, msname))\n",
    "imgs = [safe_load(f, \"image/png\") for f in imnames]\n",
    "display(*imgs)"
   ]
  },
  {
   "cell_type": "markdown",
   "metadata": {},
   "source": [
    "# Real v imaginary"
   ]
  },
  {
   "cell_type": "markdown",
   "metadata": {},
   "source": [
    "## Bandpass"
   ]
  },
  {
   "cell_type": "markdown",
   "metadata": {},
   "source": [
    "### Colorized per scan"
   ]
  },
  {
   "cell_type": "code",
   "execution_count": null,
   "metadata": {},
   "outputs": [],
   "source": [
    "imnames = glob(\"%s/meerkathi-%s-1gc1-bpcal-scan-reim_*.png\" % \n",
    "               (outputdir, msname))\n",
    "imgs = [safe_load(f, \"image/png\") for f in imnames]\n",
    "display(*imgs)"
   ]
  },
  {
   "cell_type": "markdown",
   "metadata": {},
   "source": [
    "### Colorized per baseline"
   ]
  },
  {
   "cell_type": "code",
   "execution_count": null,
   "metadata": {},
   "outputs": [],
   "source": [
    "imnames = glob(\"%s/meerkathi-%s-1gc1-bpcal-baseline-reim_*.png\" % \n",
    "               (outputdir, msname))\n",
    "imgs = [safe_load(f, \"image/png\") for f in imnames]\n",
    "display(*imgs)"
   ]
  },
  {
   "cell_type": "markdown",
   "metadata": {},
   "source": [
    "## Gain calibrator"
   ]
  },
  {
   "cell_type": "markdown",
   "metadata": {},
   "source": [
    "### Colorized by scan"
   ]
  },
  {
   "cell_type": "code",
   "execution_count": null,
   "metadata": {},
   "outputs": [],
   "source": [
    "imnames = glob(\"%s/meerkathi-%s-1gc1-gcal-scan-reim_*.png\" % \n",
    "               (outputdir, msname))\n",
    "imgs = [safe_load(f, \"image/png\") for f in imnames]\n",
    "display(*imgs)"
   ]
  },
  {
   "cell_type": "markdown",
   "metadata": {},
   "source": [
    "### Colorized by baseline"
   ]
  },
  {
   "cell_type": "code",
   "execution_count": null,
   "metadata": {},
   "outputs": [],
   "source": [
    "imnames = glob(\"%s/meerkathi-%s-1gc1-gcal-baseline-reim_*.png\" % \n",
    "               (outputdir, msname))\n",
    "imgs = [safe_load(f, \"image/png\") for f in imnames]\n",
    "display(*imgs)"
   ]
  },
  {
   "cell_type": "markdown",
   "metadata": {},
   "source": [
    "## Colorized by scan"
   ]
  },
  {
   "cell_type": "markdown",
   "metadata": {},
   "source": [
    "# Amp vs. UV$\\lambda$"
   ]
  },
  {
   "cell_type": "markdown",
   "metadata": {},
   "source": [
    "## Bandpass"
   ]
  },
  {
   "cell_type": "code",
   "execution_count": null,
   "metadata": {},
   "outputs": [],
   "source": [
    "imnames = glob(\"%s/meerkathi-%s-1gc1-bpcal-ampuvwave_*.png\" % \n",
    "               (outputdir, msname))\n",
    "imgs = [safe_load(f, \"image/png\") for f in imnames]\n",
    "display(*imgs)"
   ]
  },
  {
   "cell_type": "markdown",
   "metadata": {},
   "source": [
    "## Gain calibrator "
   ]
  },
  {
   "cell_type": "code",
   "execution_count": null,
   "metadata": {},
   "outputs": [],
   "source": [
    "imnames = glob(\"%s/meerkathi-%s-1gc1-gcal-ampuvwave_*.png\" % \n",
    "               (outputdir, msname))\n",
    "imgs = [safe_load(f, \"image/png\") for f in imnames]\n",
    "display(*imgs)"
   ]
  },
  {
   "cell_type": "markdown",
   "metadata": {},
   "source": [
    "# Phase vs UV$\\lambda$"
   ]
  },
  {
   "cell_type": "markdown",
   "metadata": {},
   "source": [
    "## Bandpass"
   ]
  },
  {
   "cell_type": "code",
   "execution_count": null,
   "metadata": {},
   "outputs": [],
   "source": [
    "imnames = glob(\"%s/meerkathi-%s-1gc1-bpcal-phaseuvwave_*.png\" % \n",
    "               (outputdir, msname))\n",
    "imgs = [safe_load(f, \"image/png\") for f in imnames]\n",
    "display(*imgs)"
   ]
  },
  {
   "cell_type": "markdown",
   "metadata": {},
   "source": [
    "## Gain calibrator"
   ]
  },
  {
   "cell_type": "code",
   "execution_count": null,
   "metadata": {},
   "outputs": [],
   "source": [
    "imnames = glob(\"%s/meerkathi-%s-1gc1-gcal-phaseuvwave_*.png\" % \n",
    "               (outputdir, msname))\n",
    "imgs = [safe_load(f, \"image/png\") for f in imnames]\n",
    "display(*imgs)"
   ]
  },
  {
   "cell_type": "markdown",
   "metadata": {},
   "source": [
    "# Amplitude vs. Scan"
   ]
  },
  {
   "cell_type": "markdown",
   "metadata": {},
   "source": [
    "## Target"
   ]
  },
  {
   "cell_type": "code",
   "execution_count": null,
   "metadata": {},
   "outputs": [],
   "source": [
    "imnames = glob(\"%s/meerkathi-%s-1gc1-target-ampscan_*.png\" % \n",
    "               (outputdir, msname))\n",
    "imgs = [safe_load(f, \"image/png\") for f in imnames]\n",
    "display(*imgs)"
   ]
  },
  {
   "cell_type": "markdown",
   "metadata": {},
   "source": [
    "## Bandpass"
   ]
  },
  {
   "cell_type": "code",
   "execution_count": null,
   "metadata": {},
   "outputs": [],
   "source": [
    "imnames = glob(\"%s/meerkathi-%s-1gc1-bpcal-ampscan_*.png\" % \n",
    "               (outputdir, msname))\n",
    "imgs = [safe_load(f, \"image/png\") for f in imnames]\n",
    "display(*imgs)"
   ]
  },
  {
   "cell_type": "markdown",
   "metadata": {},
   "source": [
    "## Gain calibrator"
   ]
  },
  {
   "cell_type": "code",
   "execution_count": null,
   "metadata": {},
   "outputs": [],
   "source": [
    "imnames = glob(\"%s/meerkathi-%s-1gc1-gcal-ampscan_*.png\" % \n",
    "               (outputdir, msname))\n",
    "imgs = [safe_load(f, \"image/png\") for f in imnames]\n",
    "display(*imgs)"
   ]
  }
 ],
 "metadata": {
  "kernelspec": {
   "display_name": "Python 2",
   "language": "python",
   "name": "python2"
  },
  "language_info": {
   "codemirror_mode": {
    "name": "ipython",
    "version": 2
   },
   "file_extension": ".py",
   "mimetype": "text/x-python",
   "name": "python",
   "nbconvert_exporter": "python",
   "pygments_lexer": "ipython2",
   "version": "2.7.12"
  }
 },
 "nbformat": 4,
 "nbformat_minor": 1
}
