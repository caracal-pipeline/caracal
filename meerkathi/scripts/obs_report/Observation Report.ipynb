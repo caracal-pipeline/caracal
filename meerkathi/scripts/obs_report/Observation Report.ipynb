{
 "cells": [
  {
   "cell_type": "code",
   "execution_count": null,
   "metadata": {
    "collapsed": false
   },
   "outputs": [],
   "source": [
    "#These parameters are updated externally... Do not move them\n",
    "msname = None\n",
    "outputdir = \"output\""
   ]
  },
  {
   "cell_type": "code",
   "execution_count": null,
   "metadata": {
    "collapsed": true
   },
   "outputs": [],
   "source": [
    "import numpy as np\n",
    "from matplotlib import pyplot as plt\n",
    "from glob import glob\n",
    "import aplpy\n",
    "from IPython.display import Image, display, HTML, IFrame\n",
    "import base64\n",
    "\n",
    "%matplotlib inline"
   ]
  },
  {
   "cell_type": "code",
   "execution_count": null,
   "metadata": {
    "collapsed": false
   },
   "outputs": [],
   "source": [
    "def safe_load(filename, mimetype, *args, **kwargs):\n",
    "    try:\n",
    "        if mimetype == \"image/png\":\n",
    "            return Image(filename)\n",
    "        elif mimetype == \"text/plain\":\n",
    "            with open(filename, 'r') as f:\n",
    "                txt = f.read()\n",
    "            packet = base64.encodestring(txt)\n",
    "            return IFrame(\"data:%s;base64,%s\" % (mimetype, packet), *args, **kwargs)\n",
    "        elif mimetype == \"application/fits\":\n",
    "            f = aplpy.FITSFigure(\"%s/meerkathi-pipeline.fullrest.fits\" % outputdir, \n",
    "                                 figsize=kwargs.pop(\"figsize\", (15,15)))\n",
    "            f.show_colorscale(*args, **kwargs)\n",
    "            f.add_colorbar()\n",
    "            f.add_beam()\n",
    "            f.beam.set_color('magenta')\n",
    "            f.beam.set_hatch('+')\n",
    "            return f\n",
    "        else:\n",
    "            raise ValueError(\"unsupported type\")\n",
    "    except:\n",
    "        return HTML(\"<p style='color:#ff0000; font-weight:bold'>Could not load specified files. \"\n",
    "                    \"This step may not have run, or there was a trainsmash. Check the logs</p>\")"
   ]
  },
  {
   "cell_type": "markdown",
   "metadata": {},
   "source": [
    "# Observation info"
   ]
  },
  {
   "cell_type": "code",
   "execution_count": null,
   "metadata": {
    "collapsed": false
   },
   "outputs": [],
   "source": [
    "display(safe_load(\"%s/meerkathi-%s-obsinfo.txt\" % (outputdir, msname), \n",
    "                  \"text/plain\", 800, 300))"
   ]
  },
  {
   "cell_type": "markdown",
   "metadata": {},
   "source": [
    "# Final flagging statistics"
   ]
  },
  {
   "cell_type": "code",
   "execution_count": null,
   "metadata": {
    "collapsed": false
   },
   "outputs": [],
   "source": [
    "display(safe_load(\"%s/log-flagging_summary_image_HI_0.txt\" % (outputdir), \n",
    "                  \"text/plain\", 800, 300))"
   ]
  },
  {
   "cell_type": "markdown",
   "metadata": {},
   "source": [
    "# Images"
   ]
  },
  {
   "cell_type": "markdown",
   "metadata": {},
   "source": [
    "## Full-restored"
   ]
  },
  {
   "cell_type": "code",
   "execution_count": null,
   "metadata": {
    "collapsed": false
   },
   "outputs": [],
   "source": [
    "display(safe_load(\"%s/meerkathi-pipeline.fullrest.fits\" % outputdir,\n",
    "                  \"application/fits\", \n",
    "                  pmin=0.1, pmax=99.99, cmap=\"cubehelix\", interpolation=\"bicubic\", figsize=(10,10)))"
   ]
  },
  {
   "cell_type": "markdown",
   "metadata": {},
   "source": [
    "## Final continuum residual"
   ]
  },
  {
   "cell_type": "code",
   "execution_count": null,
   "metadata": {
    "collapsed": false
   },
   "outputs": [],
   "source": [
    "display(safe_load(\"%s/meerkathi-pipeline_5-MFS-image.fits\" % outputdir,\n",
    "                  \"application/fits\", \n",
    "                  pmin=0, pmax=99.99, cmap=\"cubehelix\", interpolation=\"bicubic\", figsize=(10,10)))"
   ]
  },
  {
   "cell_type": "markdown",
   "metadata": {},
   "source": [
    "# Calibration solutions"
   ]
  },
  {
   "cell_type": "markdown",
   "metadata": {},
   "source": [
    "# Delay"
   ]
  },
  {
   "cell_type": "code",
   "execution_count": null,
   "metadata": {
    "collapsed": false
   },
   "outputs": [],
   "source": [
    "imnames = glob(\"%s/meerkathi-%s-1gc1-K0.png\" % \n",
    "               (outputdir, msname))\n",
    "imgs = [safe_load(f, \"image/png\") for f in imnames]\n",
    "display(*imgs)"
   ]
  },
  {
   "cell_type": "markdown",
   "metadata": {},
   "source": [
    "## Bandpass"
   ]
  },
  {
   "cell_type": "code",
   "execution_count": null,
   "metadata": {
    "collapsed": false
   },
   "outputs": [],
   "source": [
    "imnames = glob(\"%s/meerkathi-%s-1gc1-B0-*.png\" % \n",
    "               (outputdir, msname))\n",
    "imgs = [safe_load(f, \"image/png\") for f in imnames]\n",
    "display(*imgs)"
   ]
  },
  {
   "cell_type": "markdown",
   "metadata": {},
   "source": [
    "## Fluxscaled gains"
   ]
  },
  {
   "cell_type": "code",
   "execution_count": null,
   "metadata": {
    "collapsed": false
   },
   "outputs": [],
   "source": [
    "imnames = glob(\"%s/meerkathi-%s-1gc1-F0-*.png\" % \n",
    "               (outputdir, msname))\n",
    "imgs = [safe_load(f, \"image/png\") for f in imnames]\n",
    "display(*imgs)"
   ]
  },
  {
   "cell_type": "markdown",
   "metadata": {},
   "source": [
    "# Time spectra"
   ]
  },
  {
   "cell_type": "code",
   "execution_count": null,
   "metadata": {
    "collapsed": false
   },
   "outputs": [],
   "source": [
    "imnames = glob(\"%s/%s.ms-AUTOCORR-FIELD-*-CORR-*.png\" % \n",
    "               (outputdir, msname))\n",
    "imgs = [safe_load(f, \"image/png\") for f in imnames]\n",
    "display(*imgs)"
   ]
  },
  {
   "cell_type": "markdown",
   "metadata": {},
   "source": [
    "# Calibrated phases"
   ]
  },
  {
   "cell_type": "code",
   "execution_count": null,
   "metadata": {
    "collapsed": false
   },
   "outputs": [],
   "source": [
    "imnames = glob(\"%s/%s.ms-PHASE-FIELD-*-CORR-*\" % \n",
    "               (outputdir, msname))\n",
    "imgs = [safe_load(f, \"image/png\") for f in imnames]\n",
    "display(*imgs)"
   ]
  },
  {
   "cell_type": "markdown",
   "metadata": {},
   "source": [
    "# Phase balls"
   ]
  },
  {
   "cell_type": "markdown",
   "metadata": {},
   "source": [
    "## Bandpass"
   ]
  },
  {
   "cell_type": "markdown",
   "metadata": {},
   "source": [
    "### Colorized by scan"
   ]
  },
  {
   "cell_type": "code",
   "execution_count": null,
   "metadata": {
    "collapsed": false
   },
   "outputs": [],
   "source": [
    "imnames = glob(\"%s/meerkathi-%s-1gc1-bpcal-scan-ap_*.png\" % \n",
    "               (outputdir, msname))\n",
    "imgs = [safe_load(f, \"image/png\") for f in imnames]\n",
    "display(*imgs)"
   ]
  },
  {
   "cell_type": "markdown",
   "metadata": {},
   "source": [
    "### Colorized by baseline"
   ]
  },
  {
   "cell_type": "code",
   "execution_count": null,
   "metadata": {
    "collapsed": false
   },
   "outputs": [],
   "source": [
    "imnames = glob(\"%s/meerkathi-%s-1gc1-bpcal-baseline-ap_*.png\" % \n",
    "               (outputdir, msname))\n",
    "imgs = [safe_load(f, \"image/png\") for f in imnames]\n",
    "display(*imgs)"
   ]
  },
  {
   "cell_type": "markdown",
   "metadata": {},
   "source": [
    "## Gain calibrator"
   ]
  },
  {
   "cell_type": "markdown",
   "metadata": {},
   "source": [
    "### Colorized by scan"
   ]
  },
  {
   "cell_type": "code",
   "execution_count": null,
   "metadata": {
    "collapsed": false
   },
   "outputs": [],
   "source": [
    "imnames = glob(\"%s/meerkathi-%s-1gc1-gcal-scan-ap_*.png\" % \n",
    "               (outputdir, msname))\n",
    "imgs = [safe_load(f, \"image/png\") for f in imnames]\n",
    "display(*imgs)"
   ]
  },
  {
   "cell_type": "markdown",
   "metadata": {},
   "source": [
    "### Colorized by baseline"
   ]
  },
  {
   "cell_type": "code",
   "execution_count": null,
   "metadata": {
    "collapsed": false
   },
   "outputs": [],
   "source": [
    "imnames = glob(\"%s/meerkathi-%s-1gc1-gcal-baseline-ap_*.png\" % \n",
    "               (outputdir, msname))\n",
    "imgs = [safe_load(f, \"image/png\") for f in imnames]\n",
    "display(*imgs)"
   ]
  },
  {
   "cell_type": "markdown",
   "metadata": {},
   "source": [
    "# Real v imaginary"
   ]
  },
  {
   "cell_type": "markdown",
   "metadata": {},
   "source": [
    "## Bandpass"
   ]
  },
  {
   "cell_type": "markdown",
   "metadata": {},
   "source": [
    "### Colorized per scan"
   ]
  },
  {
   "cell_type": "code",
   "execution_count": null,
   "metadata": {
    "collapsed": false
   },
   "outputs": [],
   "source": [
    "imnames = glob(\"%s/meerkathi-%s-1gc1-bpcal-scan-reim_*.png\" % \n",
    "               (outputdir, msname))\n",
    "imgs = [safe_load(f, \"image/png\") for f in imnames]\n",
    "display(*imgs)"
   ]
  },
  {
   "cell_type": "markdown",
   "metadata": {},
   "source": [
    "### Colorized per baseline"
   ]
  },
  {
   "cell_type": "code",
   "execution_count": null,
   "metadata": {
    "collapsed": false
   },
   "outputs": [],
   "source": [
    "imnames = glob(\"%s/meerkathi-%s-1gc1-bpcal-baseline-reim_*.png\" % \n",
    "               (outputdir, msname))\n",
    "imgs = [safe_load(f, \"image/png\") for f in imnames]\n",
    "display(*imgs)"
   ]
  },
  {
   "cell_type": "markdown",
   "metadata": {},
   "source": [
    "## Gain calibrator"
   ]
  },
  {
   "cell_type": "markdown",
   "metadata": {},
   "source": [
    "### Colorized by scan"
   ]
  },
  {
   "cell_type": "code",
   "execution_count": null,
   "metadata": {
    "collapsed": false
   },
   "outputs": [],
   "source": [
    "imnames = glob(\"%s/meerkathi-%s-1gc1-gcal-scan-reim_*.png\" % \n",
    "               (outputdir, msname))\n",
    "imgs = [safe_load(f, \"image/png\") for f in imnames]\n",
    "display(*imgs)"
   ]
  },
  {
   "cell_type": "markdown",
   "metadata": {},
   "source": [
    "### Colorized by baseline"
   ]
  },
  {
   "cell_type": "code",
   "execution_count": null,
   "metadata": {
    "collapsed": false
   },
   "outputs": [],
   "source": [
    "imnames = glob(\"%s/meerkathi-%s-1gc1-gcal-baseline-reim_*.png\" % \n",
    "               (outputdir, msname))\n",
    "imgs = [safe_load(f, \"image/png\") for f in imnames]\n",
    "display(*imgs)"
   ]
  },
  {
   "cell_type": "markdown",
   "metadata": {},
   "source": [
    "## Colorized by scan"
   ]
  },
  {
   "cell_type": "markdown",
   "metadata": {},
   "source": [
    "# Amp vs. UV$\\lambda$"
   ]
  },
  {
   "cell_type": "markdown",
   "metadata": {},
   "source": [
    "## Bandpass"
   ]
  },
  {
   "cell_type": "code",
   "execution_count": null,
   "metadata": {
    "collapsed": false
   },
   "outputs": [],
   "source": [
    "imnames = glob(\"%s/meerkathi-%s-1gc1-bpcal-ampuvwave_*.png\" % \n",
    "               (outputdir, msname))\n",
    "imgs = [safe_load(f, \"image/png\") for f in imnames]\n",
    "display(*imgs)"
   ]
  },
  {
   "cell_type": "markdown",
   "metadata": {},
   "source": [
    "## Gain calibrator "
   ]
  },
  {
   "cell_type": "code",
   "execution_count": null,
   "metadata": {
    "collapsed": false
   },
   "outputs": [],
   "source": [
    "imnames = glob(\"%s/meerkathi-%s-1gc1-gcal-ampuvwave_*.png\" % \n",
    "               (outputdir, msname))\n",
    "imgs = [safe_load(f, \"image/png\") for f in imnames]\n",
    "display(*imgs)"
   ]
  },
  {
   "cell_type": "markdown",
   "metadata": {},
   "source": [
    "# Phase vs UV$\\lambda$"
   ]
  },
  {
   "cell_type": "markdown",
   "metadata": {},
   "source": [
    "## Bandpass"
   ]
  },
  {
   "cell_type": "code",
   "execution_count": null,
   "metadata": {
    "collapsed": false
   },
   "outputs": [],
   "source": [
    "imnames = glob(\"%s/meerkathi-%s-1gc1-bpcal-phaseuvwave_*.png\" % \n",
    "               (outputdir, msname))\n",
    "imgs = [safe_load(f, \"image/png\") for f in imnames]\n",
    "display(*imgs)"
   ]
  },
  {
   "cell_type": "markdown",
   "metadata": {},
   "source": [
    "## Gain calibrator"
   ]
  },
  {
   "cell_type": "code",
   "execution_count": null,
   "metadata": {
    "collapsed": false
   },
   "outputs": [],
   "source": [
    "imnames = glob(\"%s/meerkathi-%s-1gc1-gcal-phaseuvwave_*.png\" % \n",
    "               (outputdir, msname))\n",
    "imgs = [safe_load(f, \"image/png\") for f in imnames]\n",
    "display(*imgs)"
   ]
  },
  {
   "cell_type": "markdown",
   "metadata": {},
   "source": [
    "# Amplitude vs. Scan"
   ]
  },
  {
   "cell_type": "markdown",
   "metadata": {},
   "source": [
    "## Target"
   ]
  },
  {
   "cell_type": "code",
   "execution_count": null,
   "metadata": {
    "collapsed": false
   },
   "outputs": [],
   "source": [
    "imnames = glob(\"%s/meerkathi-%s-1gc1-target-ampscan_*.png\" % \n",
    "               (outputdir, msname))\n",
    "imgs = [safe_load(f, \"image/png\") for f in imnames]\n",
    "display(*imgs)"
   ]
  },
  {
   "cell_type": "markdown",
   "metadata": {},
   "source": [
    "## Bandpass"
   ]
  },
  {
   "cell_type": "code",
   "execution_count": null,
   "metadata": {
    "collapsed": false
   },
   "outputs": [],
   "source": [
    "imnames = glob(\"%s/meerkathi-%s-1gc1-bpcal-ampscan_*.png\" % \n",
    "               (outputdir, msname))\n",
    "imgs = [safe_load(f, \"image/png\") for f in imnames]\n",
    "display(*imgs)"
   ]
  },
  {
   "cell_type": "markdown",
   "metadata": {},
   "source": [
    "## Gain calibrator"
   ]
  },
  {
   "cell_type": "code",
   "execution_count": null,
   "metadata": {
    "collapsed": false
   },
   "outputs": [],
   "source": [
    "imnames = glob(\"%s/meerkathi-%s-1gc1-gcal-ampscan_*.png\" % \n",
    "               (outputdir, msname))\n",
    "imgs = [safe_load(f, \"image/png\") for f in imnames]\n",
    "display(*imgs)"
   ]
  }
 ],
 "metadata": {
  "kernelspec": {
   "display_name": "Python 2",
   "language": "python",
   "name": "python2"
  },
  "language_info": {
   "codemirror_mode": {
    "name": "ipython",
    "version": 2
   },
   "file_extension": ".py",
   "mimetype": "text/x-python",
   "name": "python",
   "nbconvert_exporter": "python",
   "pygments_lexer": "ipython2",
   "version": "2.7.6"
  }
 },
 "nbformat": 4,
 "nbformat_minor": 0
}
