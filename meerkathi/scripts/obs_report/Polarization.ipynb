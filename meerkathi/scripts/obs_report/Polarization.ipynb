{
 "cells": [
  {
   "cell_type": "code",
   "execution_count": null,
   "metadata": {},
   "outputs": [],
   "source": [
    "#DON'T RENAME ME - I'M CHANGED EXTERNALLY\n",
    "MSNAME = \"msdir/COMBINED.ms\"\n",
    "UNPOL_SOURCE = \"PKS1934-638\""
   ]
  },
  {
   "cell_type": "code",
   "execution_count": null,
   "metadata": {
    "collapsed": false
   },
   "outputs": [],
   "source": [
    "from IPython.display import HTML\n",
    "HTML('code_toggle.html')"
   ]
  },
  {
   "cell_type": "code",
   "execution_count": null,
   "metadata": {},
   "outputs": [],
   "source": [
    "import numpy as np\n",
    "from matplotlib import pyplot as plt\n",
    "from pyrap.tables import table as tbl\n",
    "from pyrap.tables import taql as taql\n",
    "from scipy.stats import kurtosis, skew\n",
    "%matplotlib inline"
   ]
  },
  {
   "cell_type": "code",
   "execution_count": null,
   "metadata": {},
   "outputs": [],
   "source": [
    "with tbl(\"%s::FIELD\" % MSNAME) as t:\n",
    "    fnames = list(t.getcol(\"NAME\"))\n",
    "    print fnames\n",
    "with tbl(\"%s::SPECTRAL_WINDOW\" % MSNAME) as t:\n",
    "    chans = t.getcell(\"CHAN_FREQ\", 0).size\n",
    "with tbl(\"%s\" % MSNAME) as t:\n",
    "    nrow = t.nrows()\n",
    "\n",
    "with tbl(\"%s\" % MSNAME, ack=False) as t:\n",
    "    upol_source_id = fnames.index(UNPOL_SOURCE)\n",
    "    with taql('select from $t where FIELD_ID == $upol_source_id') as t1:\n",
    "        a1 = t1.getcol(\"ANTENNA1\")\n",
    "        a2 = t1.getcol(\"ANTENNA2\")\n",
    "        flgs = t1.getcol(\"FLAG\")\n",
    "        data = t1.getcol(\"CORRECTED_DATA\")"
   ]
  },
  {
   "cell_type": "code",
   "execution_count": null,
   "metadata": {},
   "outputs": [],
   "source": [
    "fsel = np.sum(flgs, axis=2) > 0\n",
    "I = 0.5 * (data[:,:,0] + data[:,:,3])  \n",
    "Q = 0.5 * (data[:,:,0] - data[:,:,3])   \n",
    "U = 0.5 * (data[:,:,1] + data[:,:,2])  \n",
    "V = 0.5 * (data[:,:,1] - data[:,:,2]) * 1.0j \n",
    "# flag data\n",
    "I[fsel] = np.nan\n",
    "Q[fsel] = np.nan\n",
    "U[fsel] = np.nan\n",
    "V[fsel] = np.nan"
   ]
  },
  {
   "cell_type": "code",
   "execution_count": null,
   "metadata": {},
   "outputs": [],
   "source": [
    "lin_leakage = np.abs((Q**2 + U**2) / I**2)\n",
    "total_leakage = np.abs((Q**2 + U**2 + V**2) / I**2)"
   ]
  },
  {
   "cell_type": "code",
   "execution_count": null,
   "metadata": {},
   "outputs": [],
   "source": [
    "f, (ax1, ax2, ax3) = plt.subplots(1, 3, sharey=True, figsize=(12,4))\n",
    "ax1.scatter(V[:,:],U[:,:])\n",
    "ax1.set_xlabel(\"Stokes V\")\n",
    "ax1.set_ylabel(\"Stokes U\")\n",
    "ax2.scatter(V[:,:],Q[:,:])\n",
    "ax2.set_xlabel(\"Stokes V\")\n",
    "ax2.set_ylabel(\"Stokes Q\")\n",
    "ax3.scatter(U[:,:],Q[:,:])\n",
    "ax3.set_xlabel(\"Stokes U\")\n",
    "ax3.set_ylabel(\"Stokes Q\")\n",
    "plt.show()"
   ]
  },
  {
   "cell_type": "code",
   "execution_count": null,
   "metadata": {},
   "outputs": [],
   "source": [
    "print \"Spread in V:\", np.nanmean(np.abs(V[:,:])), \"+/-\", np.nanstd(np.abs(V[:,:])), \"kurt:\", kurtosis(np.abs(V.ravel()), nan_policy='omit'), \"skew:\", skew(np.abs(V[np.logical_not(np.isnan(V))]).ravel()), \"Jy\"\n",
    "print \"Spread in U:\", np.nanmean(np.abs(U[:,:])), \"+/-\", np.nanstd(np.abs(U[:,:])), \"kurt:\", kurtosis(np.abs(U.ravel()), nan_policy='omit'), \"skew:\", skew(np.abs(U[np.logical_not(np.isnan(U))]).ravel()), \"Jy\"\n",
    "print \"Spread in Q:\", np.nanmean(np.abs(Q[:,:])), \"+/-\", np.nanstd(np.abs(Q[:,:])), \"kurt:\", kurtosis(np.abs(Q.ravel()), nan_policy='omit'), \"skew:\", skew(np.abs(Q[np.logical_not(np.isnan(Q))]).ravel()), \"Jy\""
   ]
  },
  {
   "cell_type": "code",
   "execution_count": null,
   "metadata": {},
   "outputs": [],
   "source": [
    "lin_leakage[lin_leakage == 0] = np.nan\n",
    "total_leakage[lin_leakage == 0] = np.nan\n",
    "print \"Mean linear leakage:\", np.nanmean(lin_leakage), \\\n",
    "      \"+/-\", np.nanstd(lin_leakage), \\\n",
    "      \"(\", 10*np.log10(np.nanmean(lin_leakage) + np.nanstd(lin_leakage)), \"~\", \\\n",
    "      10*np.log10(np.nanmean(lin_leakage)), \"dB)\"\n",
    "print \"Mean total leakage:\", np.nanmean(total_leakage), \\\n",
    "      \"+/-\", np.nanstd(total_leakage), \\\n",
    "      \"(\", 10*np.log10(np.nanmean(total_leakage) + np.nanstd(total_leakage)), \"~\", \\\n",
    "      10*np.log10(np.nanmean(total_leakage)), \"dB)\""
   ]
  },
  {
   "cell_type": "code",
   "execution_count": null,
   "metadata": {},
   "outputs": [],
   "source": [
    "plt.figure(figsize=(12,6))\n",
    "f = np.linspace(856,856*2,chans)\n",
    "plt.errorbar(f,\n",
    "             np.nanmean(Q, axis=0),\n",
    "             yerr=np.nanstd(Q, axis=0), fmt='o', ecolor='r', capsize=4)\n",
    "plt.plot(f, np.nanmedian(Q, axis=0), 'b--')\n",
    "plt.xlabel(\"Frequency (MHz)\")\n",
    "plt.ylabel(\"Stokes Q\")\n",
    "plt.xlim(900,1600)\n",
    "plt.show()\n",
    "plt.figure(figsize=(12,6))\n",
    "f = np.linspace(856,856*2,chans)\n",
    "plt.errorbar(f,\n",
    "             np.nanmean(U, axis=0),\n",
    "             yerr=np.nanstd(U, axis=0), fmt='o', ecolor='r', capsize=4)\n",
    "plt.plot(f, np.nanmedian(U, axis=0), 'b--')\n",
    "plt.xlabel(\"Frequency (MHz)\")\n",
    "plt.ylabel(\"Stokes U\")\n",
    "plt.xlim(900,1600)\n",
    "plt.show()\n",
    "plt.figure(figsize=(12,6))\n",
    "f = np.linspace(856,856*2,chans)\n",
    "f = np.linspace(856,856*2,chans)\n",
    "plt.errorbar(f,\n",
    "             np.nanmean(V, axis=0),\n",
    "             yerr=np.nanstd(V, axis=0), fmt='o', ecolor='r', capsize=4)\n",
    "plt.plot(f, np.nanmedian(V, axis=0), 'b--')\n",
    "plt.xlabel(\"Frequency (MHz)\")\n",
    "plt.ylabel(\"Stokes V (calibration error)\")\n",
    "plt.xlim(900,1600)\n",
    "plt.show()"
   ]
  },
  {
   "cell_type": "code",
   "execution_count": null,
   "metadata": {},
   "outputs": [],
   "source": [
    "plt.figure(figsize=(12,6))\n",
    "fleak_mean = np.nanmean(lin_leakage, axis=0)\n",
    "fleak_std = np.nanstd(lin_leakage, axis=0)\n",
    "f = np.linspace(856,856*2,chans)\n",
    "plt.fill_between(f,\n",
    "                 10*np.log10(np.abs(fleak_mean)),\n",
    "                 10*np.log10(np.abs(fleak_mean + fleak_std)))\n",
    "plt.xlabel(\"Frequency (MHz)\")\n",
    "plt.ylabel(\"$D_{lin}$ (dB)\")\n",
    "plt.grid(True)\n",
    "plt.show()"
   ]
  },
  {
   "cell_type": "code",
   "execution_count": null,
   "metadata": {},
   "outputs": [],
   "source": [
    "plt.figure(figsize=(12,6))\n",
    "fleak_mean_tot = np.nanmean(total_leakage, axis=0)\n",
    "fleak_std_tot = np.nanstd(total_leakage, axis=0)\n",
    "f = np.linspace(856,856*2,chans)\n",
    "plt.fill_between(f,\n",
    "                 10*np.log10(np.abs(fleak_mean_tot)),\n",
    "                 10*np.log10(np.abs(fleak_mean_tot + fleak_std_tot)))\n",
    "plt.xlabel(\"Frequency (MHz)\")\n",
    "plt.ylabel(\"$D_{tot}$ (dB)\")\n",
    "plt.grid(True)\n",
    "plt.show()"
   ]
  }
 ],
 "metadata": {
  "kernelspec": {
   "display_name": "Python 2",
   "language": "python",
   "name": "python2"
  },
  "language_info": {
   "codemirror_mode": {
    "name": "ipython",
    "version": 2
   },
   "file_extension": ".py",
   "mimetype": "text/x-python",
   "name": "python",
   "nbconvert_exporter": "python",
   "pygments_lexer": "ipython2",
   "version": "2.7.12"
  }
 },
 "nbformat": 4,
 "nbformat_minor": 2
}
